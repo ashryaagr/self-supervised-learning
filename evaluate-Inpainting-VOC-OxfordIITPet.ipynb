{
 "cells": [
  {
   "cell_type": "markdown",
   "metadata": {
    "id": "thtfI8d0ad4q"
   },
   "source": [
    "# Download and unzip the PascalVoc dataset"
   ]
  },
  {
   "cell_type": "code",
   "execution_count": 1,
   "metadata": {
    "colab": {
     "base_uri": "https://localhost:8080/",
     "height": 380
    },
    "id": "ivkItYJooBYF",
    "outputId": "c787603f-3fcc-4c1b-ae42-c9dad86c22df"
   },
   "outputs": [],
   "source": [
    "import torchvision\n",
    "# train_dataset =torchvision.datasets.VOCSegmentation(root='./data',year='2012',download=True,image_set='train')\n",
    "# val_dataset = torchvision.datasets.VOCSegmentation(root='./data',year='2012',download=True,image_set='val')\n",
    "# test_dataset = torchvision.datasets.VOCSegmentation(root='./data',year='2007',download=True,image_set='test')\n",
    "\n",
    "# train_dataset =torchvision.datasets.SBDataset(root='./data',mode='segmentation',download=True,image_set='train')\n",
    "# val_dataset = torchvision.datasets.SBDataset(root='./data',mode='segmentation',download=True,image_set='val')\n",
    "# test_dataset = torchvision.datasets.SBDataset(root='./data',mode='segmentation',download=True,image_set='test')"
   ]
  },
  {
   "cell_type": "code",
   "execution_count": 2,
   "metadata": {},
   "outputs": [],
   "source": [
    "# torchvision.datasets.SBDataset(root: str, image_set: str = 'train', mode: str = 'boundaries', download: bool = False, transforms: Optional[Callable] = None)"
   ]
  },
  {
   "cell_type": "code",
   "execution_count": 3,
   "metadata": {
    "id": "W7O2K34Opfen"
   },
   "outputs": [],
   "source": [
    "!cd data"
   ]
  },
  {
   "cell_type": "code",
   "execution_count": 4,
   "metadata": {
    "colab": {
     "base_uri": "https://localhost:8080/"
    },
    "id": "sBPY-IXXn1g4",
    "outputId": "f0c2ed64-22b3-40f7-97a1-e55fa6a2aa13"
   },
   "outputs": [],
   "source": [
    "# !wget http://pjreddie.com/media/files/VOCtest_06-Nov-2007.tar\n",
    "import torch\n",
    "from torch import optim\n",
    "\n",
    "device = torch.device(\"cuda:3\" if torch.cuda.is_available() else \"cpu\")"
   ]
  },
  {
   "cell_type": "code",
   "execution_count": 5,
   "metadata": {
    "id": "y-ooO_RNn1jb"
   },
   "outputs": [],
   "source": [
    "# !tar -xvf VOCtest_06-Nov-2007.tar"
   ]
  },
  {
   "cell_type": "markdown",
   "metadata": {
    "id": "uKjin4TeaiYN"
   },
   "source": [
    "# Data Preparation\n",
    "\n",
    "run the code below to get thre dataloader objects, namely: train_loader, val_loader and test_loader"
   ]
  },
  {
   "cell_type": "code",
   "execution_count": 6,
   "metadata": {
    "colab": {
     "base_uri": "https://localhost:8080/"
    },
    "id": "q1UV1V2XqkWf",
    "outputId": "04a90050-9610-4011-d28a-6adda25524e4"
   },
   "outputs": [],
   "source": [
    "import os\n",
    "from PIL import Image\n",
    "from torch.utils import data\n",
    "import torchvision.transforms as transforms\n",
    "import random\n",
    "\n",
    "num_classes = 21\n",
    "ignore_label = 255\n",
    "root = './data'\n",
    "\n",
    "'''\n",
    "color map\n",
    "0=background, 1=aeroplane, 2=bicycle, 3=bird, 4=boat, 5=bottle # 6=bus, 7=car, 8=cat, 9=chair, 10=cow, 11=diningtable,\n",
    "12=dog, 13=horse, 14=motorbike, 15=person # 16=potted plant, 17=sheep, 18=sofa, 19=train, 20=tv/monitor\n",
    "'''\n",
    "\n",
    "\n",
    "#Feel free to convert this palette to a map\n",
    "palette = [0, 0, 0, 128, 0, 0, 0, 128, 0, 128, 128, 0, 0, 0, 128, 128, 0, 128, 0, 128, 128,\n",
    "           128, 128, 128, 64, 0, 0, 192, 0, 0, 64, 128, 0, 192, 128, 0, 64, 0, 128, 192, 0, 128,\n",
    "           64, 128, 128, 192, 128, 128, 0, 64, 0, 128, 64, 0, 0, 192, 0, 128, 192, 0, 0, 64, 128]  #3 values- R,G,B for every class. First 3 values for class 0, next 3 for\n",
    "#class 1 and so on......\n",
    "\n",
    "'''\n",
    "Depending on the mode, train or val or test, the function reads the train.txt, val.txt and test.txt files and returns a list of tuples of the form\n",
    "(image_path, mask_path) for each image in the dataset, where image_path is the path to the image and mask_path is the path to the mask for that image. \n",
    "'''\n",
    "def make_dataset(mode):\n",
    "    assert mode in ['train', 'val', 'train2007', 'val2007', 'test', ]\n",
    "    items = []\n",
    "    if mode == 'train':\n",
    "        img_path = os.path.join(root, 'VOCdevkit', 'VOC2012', 'JPEGImages')\n",
    "        mask_path = os.path.join(root, 'VOCdevkit', 'VOC2012', 'SegmentationClass')\n",
    "        data_list = [l.strip('\\n') for l in open(os.path.join(\n",
    "            root, 'VOCdevkit', 'VOC2012', 'ImageSets', 'Segmentation', 'train.txt')).readlines()]\n",
    "        for it in data_list:\n",
    "            item = (os.path.join(img_path, it + '.jpg'), os.path.join(mask_path, it + '.png'))\n",
    "            items.append(item)\n",
    "    elif mode == 'val':\n",
    "        img_path = os.path.join(root, 'VOCdevkit', 'VOC2012', 'JPEGImages')\n",
    "        mask_path = os.path.join(root, 'VOCdevkit', 'VOC2012', 'SegmentationClass')\n",
    "        data_list = [l.strip('\\n') for l in open(os.path.join(\n",
    "            root, 'VOCdevkit', 'VOC2012', 'ImageSets', 'Segmentation', 'val.txt')).readlines()]\n",
    "        for it in data_list:\n",
    "            item = (os.path.join(img_path, it + '.jpg'), os.path.join(mask_path, it + '.png'))\n",
    "            items.append(item)\n",
    "    elif mode == 'train2007':\n",
    "        img_path = os.path.join(root, 'VOCdevkit', 'VOC2007', 'JPEGImages')\n",
    "        mask_path = os.path.join(root, 'VOCdevkit', 'VOC2007', 'SegmentationClass')\n",
    "        data_list = [l.strip('\\n') for l in open(os.path.join(\n",
    "            root, 'VOCdevkit', 'VOC2007', 'ImageSets', 'Segmentation', 'train.txt')).readlines()]\n",
    "        for it in data_list:\n",
    "            item = (os.path.join(img_path, it + '.jpg'), os.path.join(mask_path, it + '.png'))\n",
    "            items.append(item)\n",
    "    elif mode == 'val2007':\n",
    "        img_path = os.path.join(root, 'VOCdevkit', 'VOC2007', 'JPEGImages')\n",
    "        mask_path = os.path.join(root, 'VOCdevkit', 'VOC2007', 'SegmentationClass')\n",
    "        data_list = [l.strip('\\n') for l in open(os.path.join(\n",
    "            root, 'VOCdevkit', 'VOC2007', 'ImageSets', 'Segmentation', 'val.txt')).readlines()]\n",
    "        for it in data_list:\n",
    "            item = (os.path.join(img_path, it + '.jpg'), os.path.join(mask_path, it + '.png'))\n",
    "            items.append(item)\n",
    "    else:\n",
    "        img_path = os.path.join(root, 'VOCdevkit', 'VOC2007', 'JPEGImages')\n",
    "        mask_path = os.path.join(root, 'VOCdevkit', 'VOC2007', 'SegmentationClass')\n",
    "        data_list = [l.strip('\\n') for l in open(os.path.join(\n",
    "            root, 'VOCdevkit', 'VOC2007', 'ImageSets', 'Segmentation', 'test.txt')).readlines()]\n",
    "        for it in data_list:\n",
    "            item = (os.path.join(img_path, it + '.jpg'), os.path.join(mask_path, it + '.png'))\n",
    "            items.append(item)\n",
    "    return items\n",
    "\n",
    "\n",
    "\n",
    "\n",
    "'''\n",
    "The class VOC is a subclass of the class torch.utils.data.Dataset. It overrides the __len__ and __getitem__ methods.\n",
    "The __len__ method returns the length of the dataset, i.e. the number of images in the dataset.\n",
    "The __getitem__ method returns the image and the mask for the given index.\n",
    "'''\n",
    "\n",
    "class VOC(data.Dataset):\n",
    "    def __init__(self, mode, transform=None, target_transform=None, common_transform=None):\n",
    "        self.imgs = make_dataset(mode)\n",
    "        if len(self.imgs) == 0:\n",
    "            raise RuntimeError('Found 0 images, please check the data set')\n",
    "        self.mode = mode\n",
    "        self.transform = transform\n",
    "        self.target_transform = target_transform\n",
    "        self.common_transform = common_transform\n",
    "        self.width = 224\n",
    "        self.height = 224\n",
    "\n",
    "    def __getitem__(self, index):\n",
    "        \n",
    "        img_path, mask_path = self.imgs[index]\n",
    "        img = Image.open(img_path).convert('RGB').resize((self.width, self.height))\n",
    "        mask = Image.open(mask_path).resize((self.width, self.height))\n",
    "\n",
    "        if self.common_transform is not None:\n",
    "            img, mask = self.common_transform((img,mask)) \n",
    "\n",
    "        if self.transform is not None:\n",
    "            img = self.transform(img)\n",
    "        if self.target_transform is not None:\n",
    "            mask = self.target_transform(mask)\n",
    "\n",
    "        mask[mask==ignore_label]=0\n",
    "\n",
    "        return img, mask\n",
    "\n",
    "    def __len__(self):\n",
    "        return len(self.imgs)\n",
    "\n",
    "\n",
    "if __name__==\"__main__\":\n",
    "#     voc = VOC(\"train\")\n",
    "\n",
    "#     print(len(voc))\n",
    "    pass"
   ]
  },
  {
   "cell_type": "code",
   "execution_count": 7,
   "metadata": {
    "id": "F9PiYKnVqZyn"
   },
   "outputs": [],
   "source": [
    "import numpy as np \n",
    "import torch\n",
    "class MaskToTensor(object):\n",
    "    def __call__(self, img):\n",
    "        return torch.from_numpy(np.array(img, dtype=np.int32)).long()\n",
    "\n",
    "\n",
    "mean_std = ([0.485, 0.456, 0.406], [0.229, 0.224, 0.225])\n",
    "\n",
    "# common_transform = transforms.Compose([\n",
    "#     # voc.MirrorFlip(0.5),\n",
    "#     # voc.Rotate(10),\n",
    "#     # voc.CenterCrop(180)\n",
    "# ])\n",
    "\n",
    "input_transform = transforms.Compose([\n",
    "    transforms.Resize((128, 128)),  \n",
    "    transforms.ToTensor(),\n",
    "    transforms.Normalize(*mean_std)\n",
    "])\n",
    "\n",
    "target_transform = transforms.Compose([\n",
    "    transforms.Resize((128, 128)),\n",
    "    MaskToTensor()\n",
    "])\n",
    "\n",
    "# augmented_train_dataset =voc.VOC('train', transform=input_transform, target_transform=target_transform, common_transform=common_transform)\n",
    "# augmented_val_dataset = voc.VOC('val', transform=input_transform, target_transform=target_transform, common_transform=common_transform)\n",
    "# augmented_test_dataset = voc.VOC('test', transform=input_transform, target_transform=target_transform, common_transform=common_transform)\n",
    "\n",
    "original_train_dataset =VOC('train', transform=input_transform, target_transform=target_transform)\n",
    "original_val_dataset = VOC('val', transform=input_transform, target_transform=target_transform)\n",
    "original_test_dataset = VOC('test', transform=input_transform, target_transform=target_transform)\n"
   ]
  },
  {
   "cell_type": "code",
   "execution_count": 8,
   "metadata": {
    "colab": {
     "base_uri": "https://localhost:8080/"
    },
    "id": "sRm6BoBqxdzw",
    "outputId": "f68df7c5-b344-4b7e-a047-5f3cc46f4756"
   },
   "outputs": [],
   "source": [
    "from torch.utils.data import DataLoader, ConcatDataset\n",
    "\n",
    "NUM_WORKERS = 4\n",
    "PREFETCH_FACTOR = 2 # improves data transfer speed between GPU and CPU and reduces GPU wait time\n",
    "train_loader = DataLoader(dataset=original_train_dataset, batch_size= 16, shuffle=True, num_workers=NUM_WORKERS, prefetch_factor=PREFETCH_FACTOR, pin_memory=True)\n",
    "val_loader = DataLoader(dataset=original_val_dataset, batch_size= 16, shuffle=False, num_workers=NUM_WORKERS, prefetch_factor=PREFETCH_FACTOR, pin_memory=True)\n",
    "test_loader = DataLoader(dataset=original_test_dataset, batch_size= 16, shuffle=False, num_workers=NUM_WORKERS, prefetch_factor=PREFETCH_FACTOR, pin_memory=True)\n"
   ]
  },
  {
   "cell_type": "markdown",
   "metadata": {
    "id": "5AiZtwNTbLBE"
   },
   "source": [
    "# end of data section"
   ]
  },
  {
   "cell_type": "code",
   "execution_count": 9,
   "metadata": {
    "colab": {
     "base_uri": "https://localhost:8080/",
     "height": 406
    },
    "id": "IXJsPn8RynHU",
    "outputId": "1e28c02e-26a5-4d25-a0fa-5a23803b541a"
   },
   "outputs": [],
   "source": [
    "# for images, masks in train_loader:\n",
    "#   image = images.to(device)\n",
    "#   mask = masks.to(device)\n",
    "#   break\n",
    "\n",
    "\n",
    "import matplotlib.pyplot as plt\n",
    "import numpy as np\n",
    "\n",
    "# # Assuming data is a tuple (image, label)\n",
    "# image = images[0]\n",
    "# # image = masks[0]\n",
    "# # Convert the tensor image to NumPy array and transpose the dimensions\n",
    "# image = image.numpy().transpose((1, 2, 0))\n",
    "\n",
    "# # Denormalize the image (if it was normalized during transformation)\n",
    "# mean = (0.5, 0.5, 0.5)  # Mean used for normalization\n",
    "# std = (0.5, 0.5, 0.5)  # Standard deviation used for normalization\n",
    "# image = image * std + mean\n",
    "\n",
    "# # Clip the pixel values to [0, 1] range in case of any numerical instability\n",
    "# image = np.clip(image, 0, 1)\n",
    "\n",
    "# # Plot the image\n",
    "# plt.imshow(image)\n",
    "# plt.axis('off')\n",
    "# plt.show()"
   ]
  },
  {
   "cell_type": "markdown",
   "metadata": {
    "id": "tCiDan5JzXVS"
   },
   "source": [
    "# utils "
   ]
  },
  {
   "cell_type": "code",
   "execution_count": 10,
   "metadata": {
    "id": "Y4wq8Kp_UtHf"
   },
   "outputs": [],
   "source": [
    "def iou(pred, target, n_classes = 21):\n",
    "    target[target==255] = 0\n",
    "\n",
    "    ious = []\n",
    "\n",
    "    for cls in range(n_classes):\n",
    "        intersection = torch.sum((pred == cls) & (target == cls)).item()\n",
    "        union = torch.sum(pred == cls) + torch.sum(target == cls) - intersection\n",
    "        union = union.item()\n",
    "        if union!=0:\n",
    "            ious.append(intersection/union)\n",
    "\n",
    "    ious = np.array(ious)\n",
    "    return ious\n",
    "\n",
    "'''\n",
    "returns pixel accuracy for the batch\n",
    "'''\n",
    "def pixel_acc(pred, target):\n",
    "    target[target==255] = 0\n",
    "    \n",
    "    correct = torch.sum(pred==target).item()\n",
    "    total_predictions = target.shape[0]*target.shape[1]*target.shape[2]\n",
    "    return correct/total_predictions"
   ]
  },
  {
   "cell_type": "code",
   "execution_count": 11,
   "metadata": {
    "id": "nIMKgG9GRiel"
   },
   "outputs": [],
   "source": [
    "import time\n",
    "import torch.nn.functional as F\n",
    "\n",
    "criterion = torch.nn.CrossEntropyLoss()\n",
    "\n",
    "def train(model=None):\n",
    "\n",
    "    model_ = model \n",
    "    torch.autograd.set_detect_anomaly(True)\n",
    "    \n",
    "    best_iou_score = 0.0\n",
    "\n",
    "    trainEpochLoss = []\n",
    "    trainEpochAccuracy = []\n",
    "    trainEpochIOU = []\n",
    "    valEpochLoss = []\n",
    "    valEpochAccuracy = []\n",
    "    valEpochIOU = []\n",
    "\n",
    "    for epoch in range(epochs):\n",
    "\n",
    "        # with profile(activities=[ProfilerActivity.CPU, ProfilerActivity.CUDA], record_shapes=True) as prof:\n",
    "        train_loss = []\n",
    "        train_acc = []\n",
    "        train_iou = []\n",
    "\n",
    "        ts = time.time()\n",
    "        for iter, (inputs, labels) in enumerate(train_loader):\n",
    "            #   reset optimizer gradients\n",
    "            optimizer.zero_grad()\n",
    "\n",
    "\n",
    "            # both inputs and labels have to reside in the same device as the model's\n",
    "            inputs =  inputs.to(device)#  transfer the input to the same device as the model's\n",
    "            labels =   labels.to(device)#  transfer the labels to the same device as the model's\n",
    "\n",
    "            trainOutputs =  model_.forward(inputs) #   Compute outputs. we will not need to transfer the output, it will be automatically in the same device as the model's!\n",
    "            trainOutputs = F.softmax(trainOutputs)\n",
    "            loss =  criterion(trainOutputs,labels)  #  calculate loss\n",
    "            loss.backward()\n",
    "\n",
    "            with torch.no_grad():\n",
    "                # To compute accuracy and IOU\n",
    "                # outputs = F.log_softmax(model_(inputs), dim=1)\n",
    "                _, pred = torch.max(trainOutputs, dim=1)\n",
    "                \n",
    "                train_iou += [np.mean(iou(pred, labels))]\n",
    "                train_acc += [pixel_acc(pred, labels)]\n",
    "                train_loss.append(loss.item())\n",
    "\n",
    "            optimizer.step()\n",
    "\n",
    "            if iter % 10 == 0:\n",
    "                print(f\"==> epoch{epoch}, iter{iter}, Train set=> loss: {train_loss[-1]}, IOU: {train_iou[-1]}, Acc: {train_acc[-1]}\")\n",
    "\n",
    "        # print(prof.key_averages().table(sort_by=\"cpu_time_total\", row_limit=10))\n",
    "\n",
    "        print(\"Finish epoch {}, time elapsed {}\".format(epoch, time.time() - ts))\n",
    "\n",
    "        val_loss, val_iou, val_acc = val(epoch,model_)\n",
    "        \n",
    "        \n",
    "        \n",
    "        ##### Plotting values\n",
    "        trainEpochLoss.append(np.mean(np.asarray(train_loss)))\n",
    "        trainEpochIOU.append(np.mean(np.asarray(train_iou)))\n",
    "        trainEpochAccuracy.append(np.mean(train_acc))\n",
    "        valEpochLoss.append(val_loss)\n",
    "        valEpochIOU.append(val_iou)\n",
    "        valEpochAccuracy.append(val_acc)\n",
    "        \n",
    "    return trainEpochLoss, trainEpochIOU, trainEpochAccuracy, valEpochLoss, valEpochIOU, valEpochAccuracy\n",
    "\n",
    "    # plots(trainEpochLoss, trainEpochAccuracy, trainEpochIOU, valEpochLoss, valEpochAccuracy, valEpochIOU, best_iter, saveLocation=saveLocation)\n"
   ]
  },
  {
   "cell_type": "code",
   "execution_count": 12,
   "metadata": {
    "id": "UTQQ4B7hU3cd"
   },
   "outputs": [],
   "source": [
    "def val(epoch, model=None):\n",
    "    model_ = model\n",
    "    model_.eval() # Put in eval mode (disables batchnorm/dropout) !\n",
    "    \n",
    "    losses = []\n",
    "    mean_iou_scores = []\n",
    "    accuracy = []\n",
    "\n",
    "    with torch.no_grad(): # we don't need to calculate the gradient in the validation/testing\n",
    "        num_iter = 0\n",
    "        for iter, (inputs, labels) in enumerate(val_loader):\n",
    "            \n",
    "            # both inputs and labels have to reside in the same device as the model's\n",
    "            inputs =  inputs.to(device)#  transfer the input to the same device as the model's\n",
    "            labels =   labels.to(device)#  transfer the labels to the same device as the model's\n",
    "\n",
    "\n",
    "            outputs = F.softmax(model_(inputs), dim=1)\n",
    "#             valoutputs = model_(inputs)\n",
    "            valloss = criterion(outputs, labels)\n",
    "            \n",
    "            num_iter += 1\n",
    "            _, pred = torch.max(outputs, dim=1)\n",
    "            mean_iou_scores += [np.mean(iou(pred, labels))]\n",
    "            accuracy += [pixel_acc(pred, labels)]\n",
    "            losses += [valloss.item()]\n",
    "\n",
    "    # print(mean_iou_scores, accuracy)\n",
    "    print(f\"=========> Loss at epoch {epoch} is {np.mean(losses)}\")\n",
    "    print(f\"=========> IoU at epoch {epoch} is {np.mean(mean_iou_scores)}\")\n",
    "    print(f\"=========> Pixel acc at epoch {epoch} is {np.mean(accuracy)}\")\n",
    "\n",
    "    model_.train() #TURNING THE TRAIN MODE BACK ON TO ENABLE BATCHNORM/DROPOUT!!\n",
    "\n",
    "    return np.mean(losses), np.mean(mean_iou_scores), np.mean(accuracy)"
   ]
  },
  {
   "cell_type": "markdown",
   "metadata": {
    "id": "loHUcdGAb_Xy"
   },
   "source": [
    "# SSL models"
   ]
  },
  {
   "cell_type": "code",
   "execution_count": 13,
   "metadata": {},
   "outputs": [],
   "source": [
    "from torch import nn\n",
    "num_scales = 3\n",
    "scale_factor = 2\n",
    "\n",
    "# Define the network architecture with feature pyramid\n",
    "class CompletionModel(nn.Module):\n",
    "    def __init__(self, num_scales=3):\n",
    "        super(CompletionModel, self).__init__()\n",
    "        self.num_scales = num_scales\n",
    "\n",
    "        # Define layers for each scale in the feature pyramid\n",
    "        self.encoders = nn.ModuleList()\n",
    "        self.decoders = nn.ModuleList()\n",
    "        self.channel_reducers = nn.ModuleList()  # 1x1 convolution layers to reduce channels\n",
    "#         self.downsamplers = nn.ModuleList()\n",
    "#         self.upsamplers = nn.ModuleList()\n",
    "        \n",
    "        for i in range(num_scales):\n",
    "            encoder = nn.Sequential(\n",
    "                nn.Conv2d(3, 64, kernel_size=3, stride=2, padding=1),\n",
    "                nn.ReLU(),\n",
    "                nn.Conv2d(64, 128, kernel_size=3, stride=2, padding=1),\n",
    "                nn.ReLU(),\n",
    "                nn.Conv2d(128, 256, kernel_size=3, stride=2, padding=1),\n",
    "                nn.ReLU(),\n",
    "                nn.Conv2d(256, 512, kernel_size=3, stride=2, padding=1),\n",
    "                nn.ReLU()\n",
    "            )\n",
    "            self.encoders.append(encoder)\n",
    "\n",
    "            decoder = nn.Sequential(\n",
    "                nn.ConvTranspose2d(512, 256, kernel_size=3, stride=2, padding=1, output_padding=1),\n",
    "                nn.ReLU(),\n",
    "                nn.ConvTranspose2d(256, 128, kernel_size=3, stride=2, padding=1, output_padding=1),\n",
    "                nn.ReLU(),\n",
    "                nn.ConvTranspose2d(128, 64, kernel_size=3, stride=2, padding=1, output_padding=1),\n",
    "                nn.ReLU(),\n",
    "                nn.ConvTranspose2d(64, 3, kernel_size=3, stride=2, padding=1, output_padding=1),\n",
    "                nn.ReLU()\n",
    "            )\n",
    "            self.decoders.append(decoder)\n",
    "            \n",
    "            channel_reducer = nn.Conv2d(3, 512, kernel_size=1)  # 1x1 convolution layer to reduce channels\n",
    "            self.channel_reducers.append(channel_reducer)\n",
    "            \n",
    "        self.upsampler = nn.Upsample(scale_factor=scale_factor, mode='bilinear', align_corners=False)\n",
    "        self.downsampler = nn.Upsample(scale_factor=1/scale_factor, mode='bilinear', align_corners=False)\n",
    "            \n",
    "\n",
    "    def forward(self, x):\n",
    "        # Initialize list to store features from each scale\n",
    "        features = []\n",
    "        #print(f\"x.shape: {x.shape}\")\n",
    "\n",
    "        # Forward pass through each scale in the feature pyramid\n",
    "        for i in range(self.num_scales):\n",
    "            encoder_output = self.encoders[i](x)\n",
    "            features.append(encoder_output)\n",
    "            #print(f\"Feature size at {i}th scale: {features[-1].shape}\")\n",
    "            x = self.downsampler(x)\n",
    "\n",
    "        # Decode the concatenated features\n",
    "        shape_feats = list(features[-1].shape)\n",
    "        shape_feats[1] = 3\n",
    "        prev_output = None#torch.zeros(shape_feats).to(device)\n",
    "        \n",
    "        for i in range(self.num_scales):\n",
    "            decoder_output = self.decoders[i](features[self.num_scales - i - 1])\n",
    "            #print(f\"decoder output shape: {decoder_output.shape}\")\n",
    "            if prev_output is None:\n",
    "                prev_output = self.upsampler(decoder_output)\n",
    "                #print(f\"prev output is none: prev_output.shape : {prev_output.shape}\")\n",
    "            else:\n",
    "                #prev_output = self.channel_reducers[i](prev_output)\n",
    "                #print(f\"prev_output.shape : {prev_output.shape}\")\n",
    "                prev_output = self.upsampler(prev_output+decoder_output)\n",
    "        \n",
    "        #print(decoder_output.shape)\n",
    "        return decoder_output"
   ]
  },
  {
   "cell_type": "markdown",
   "metadata": {},
   "source": [
    "## Self supervised training"
   ]
  },
  {
   "cell_type": "code",
   "execution_count": 14,
   "metadata": {},
   "outputs": [],
   "source": [
    "# Set hyperparameters\n",
    "num_epochs = 10\n",
    "batch_size = 32\n",
    "learning_rate = 0.001\n",
    "image_size = 28\n",
    "\n",
    "# Gaussian Pyramid Constants\n",
    "num_scales = 3\n",
    "scale_factor = 2\n",
    "batch_size = 64\n"
   ]
  },
  {
   "cell_type": "code",
   "execution_count": 17,
   "metadata": {},
   "outputs": [
    {
     "name": "stdout",
     "output_type": "stream",
     "text": [
      "Downloading https://thor.robots.ox.ac.uk/datasets/pets/images.tar.gz to data/oxford-iiit-pet/images.tar.gz\n"
     ]
    },
    {
     "name": "stderr",
     "output_type": "stream",
     "text": [
      "100.0%\n"
     ]
    },
    {
     "name": "stdout",
     "output_type": "stream",
     "text": [
      "Extracting data/oxford-iiit-pet/images.tar.gz to data/oxford-iiit-pet\n",
      "Downloading https://thor.robots.ox.ac.uk/datasets/pets/annotations.tar.gz to data/oxford-iiit-pet/annotations.tar.gz\n"
     ]
    },
    {
     "name": "stderr",
     "output_type": "stream",
     "text": [
      "100.0%\n"
     ]
    },
    {
     "name": "stdout",
     "output_type": "stream",
     "text": [
      "Extracting data/oxford-iiit-pet/annotations.tar.gz to data/oxford-iiit-pet\n"
     ]
    }
   ],
   "source": [
    "ssl_transform = transforms.Compose([\n",
    "    transforms.RandomResizedCrop((128, 128)),\n",
    "    transforms.RandomHorizontalFlip(),\n",
    "    transforms.ColorJitter(brightness=0.4, contrast=0.4, saturation=0.4, hue=0.1),\n",
    "    transforms.ToTensor(),\n",
    "    transforms.Normalize(*mean_std)\n",
    "])\n",
    "\n",
    "target_transform = transforms.Compose([\n",
    "    MaskToTensor()\n",
    "])\n",
    "\n",
    "combined_dataset = torchvision.datasets.OxfordIIITPet('./data', split=\"trainval\", transform=ssl_transform, target_transform=target_transform, download=True)\n",
    "\n",
    "# ssl_dataset_train = VOC('train', transform=ssl_transform, target_transform=target_transform)\n",
    "# ssl_dataset_val = VOC('val', transform=ssl_transform, target_transform=target_transform)\n",
    "# ssl_dataset_test = VOC('test', transform=ssl_transform, target_transform=target_transform)\n",
    "\n",
    "# combined_dataset = torch.utils.data.ConcatDataset([ssl_dataset_train, ssl_dataset_val, ssl_dataset_test])\n",
    "ssl_dataloader = DataLoader(dataset=combined_dataset, batch_size= 16, shuffle=True, num_workers=NUM_WORKERS, prefetch_factor=PREFETCH_FACTOR, pin_memory=True)"
   ]
  },
  {
   "cell_type": "code",
   "execution_count": 18,
   "metadata": {},
   "outputs": [
    {
     "name": "stdout",
     "output_type": "stream",
     "text": [
      "Epoch [1/30], Loss: 1.1712\n",
      "Epoch [2/30], Loss: 1.0959\n",
      "Epoch [3/30], Loss: 1.0594\n",
      "Epoch [4/30], Loss: 1.0546\n",
      "Epoch [5/30], Loss: 1.0437\n",
      "Epoch [6/30], Loss: 1.0386\n",
      "Epoch [7/30], Loss: 1.0280\n",
      "Epoch [8/30], Loss: 1.0319\n",
      "Epoch [9/30], Loss: 1.0259\n",
      "Epoch [10/30], Loss: 1.0339\n",
      "Epoch [11/30], Loss: 1.0386\n",
      "Epoch [12/30], Loss: 1.0095\n",
      "Epoch [13/30], Loss: 1.0207\n",
      "Epoch [14/30], Loss: 1.0224\n",
      "Epoch [15/30], Loss: 1.0200\n",
      "Epoch [16/30], Loss: 1.0112\n",
      "Epoch [17/30], Loss: 1.0000\n",
      "Epoch [18/30], Loss: 1.0108\n",
      "Epoch [19/30], Loss: 0.9972\n",
      "Epoch [20/30], Loss: 0.9985\n",
      "Epoch [21/30], Loss: 1.0024\n",
      "Epoch [22/30], Loss: 1.0055\n",
      "Epoch [23/30], Loss: 0.9977\n",
      "Epoch [24/30], Loss: 1.0076\n",
      "Epoch [25/30], Loss: 0.9852\n",
      "Epoch [26/30], Loss: 1.0006\n",
      "Epoch [27/30], Loss: 1.0039\n",
      "Epoch [28/30], Loss: 1.0043\n",
      "Epoch [29/30], Loss: 0.9923\n",
      "Epoch [30/30], Loss: 1.0017\n"
     ]
    }
   ],
   "source": [
    "model = CompletionModel().to(device)\n",
    "# model.load_state_dict(torch.load('ssl_model.pth'))\n",
    "\n",
    "# Define the loss function\n",
    "criterion = nn.MSELoss()\n",
    "\n",
    "# Define the optimizer\n",
    "optimizer = optim.Adam(model.parameters(), lr=learning_rate)\n",
    "\n",
    "num_epochs = 30\n",
    "\n",
    "# Training loop\n",
    "for epoch in range(num_epochs):\n",
    "    model.train()\n",
    "    running_loss = 0.0\n",
    "    \n",
    "    for images, _ in ssl_dataloader:\n",
    "        images = images.to(device)#.unsqueeze(0)\n",
    "        #print(images.shape)\n",
    "        \n",
    "        occluded_image = images.clone()\n",
    "        _,_, h, w = occluded_image.shape\n",
    "        x = torch.randint(0, w // 2, (1,))\n",
    "        y = torch.randint(0, h // 2, (1,))\n",
    "        occluded_image[:, :, y:y + h // 2, x:x + w // 2] = 0\n",
    "        # Forward pass and loss calculation\n",
    "        completion_images = model(occluded_image.to(device))\n",
    "        loss = criterion(completion_images[:, :, y:y + h // 2, x:x + w // 2], images[:, :, y:y + h // 2, x:x + w // 2])\n",
    "        \n",
    "        # Backward pass and optimization\n",
    "        optimizer.zero_grad()\n",
    "        loss.backward()\n",
    "        optimizer.step()\n",
    "        \n",
    "        running_loss += loss.item()\n",
    "    \n",
    "    # Compute the average loss for the epoch\n",
    "    average_loss = running_loss / len(ssl_dataloader)\n",
    "    \n",
    "    # Print progress\n",
    "    print(f\"Epoch [{epoch+1}/{num_epochs}], Loss: {average_loss:.4f}\")\n",
    "\n",
    "# Generate completions for test images\n",
    "model.eval()\n",
    "pass"
   ]
  },
  {
   "cell_type": "markdown",
   "metadata": {
    "id": "IRnApfp4E5ok"
   },
   "source": [
    "## SSL"
   ]
  },
  {
   "cell_type": "code",
   "execution_count": 19,
   "metadata": {
    "id": "xkWyigy-PQhI"
   },
   "outputs": [],
   "source": [
    "class Backbone(nn.Module):\n",
    "    def __init__(self, out_dim):\n",
    "        super(Backbone, self).__init__()\n",
    "        \n",
    "        # Define the layers\n",
    "        self.conv1 = nn.Conv2d(in_channels=3, out_channels=16, kernel_size=3, stride=1, padding=1)\n",
    "        self.relu1 = nn.ReLU()\n",
    "        self.maxpool1 = nn.MaxPool2d(kernel_size=2, stride=2)\n",
    "        \n",
    "        self.conv2 = nn.Conv2d(in_channels=16, out_channels=32, kernel_size=3, stride=1, padding=1)\n",
    "        self.relu2 = nn.ReLU()\n",
    "        self.maxpool2 = nn.MaxPool2d(kernel_size=2, stride=2)\n",
    "        \n",
    "        # Define the fully connected (linear) layer\n",
    "        self.fc = nn.Linear(in_features=1568, out_features=out_dim)\n",
    "    \n",
    "    def forward(self, x):\n",
    "        # Perform forward pass\n",
    "        x = self.conv1(x)\n",
    "        x = self.relu1(x)\n",
    "        x = self.maxpool1(x)\n",
    "        \n",
    "        x = self.conv2(x)\n",
    "        x = self.relu2(x)\n",
    "        x = self.maxpool2(x)\n",
    "        \n",
    "        x = x.view(x.size(0), -1)  # Flatten the tensor\n",
    "        \n",
    "        x = self.fc(x)\n",
    "        \n",
    "        return x"
   ]
  },
  {
   "cell_type": "code",
   "execution_count": 20,
   "metadata": {
    "id": "_1Zwqss-PIJl"
   },
   "outputs": [],
   "source": [
    "import torch\n",
    "import torch.nn as nn\n",
    "\n",
    "class UNet_ssl(nn.Module):\n",
    "    def __init__(self, n_class=21, n_dim=512):\n",
    "        super(UNet_ssl, self).__init__()\n",
    "\n",
    "        # Encoder (Based on the provided SSL architecture)\n",
    "        #self.encoder = Backbone(out_dim=n_dim)\n",
    "        self.encoders = []\n",
    "        for i in range(3):\n",
    "            encoder = nn.Sequential(\n",
    "                    nn.Conv2d(3, 64, kernel_size=3, stride=2, padding=1),\n",
    "                    nn.ReLU(),\n",
    "                    nn.Conv2d(64, 128, kernel_size=3, stride=2, padding=1),\n",
    "                    nn.ReLU(),\n",
    "                    nn.Conv2d(128, 256, kernel_size=3, stride=2, padding=1),\n",
    "                    nn.ReLU(),\n",
    "                    nn.Conv2d(256, 512, kernel_size=3, stride=2, padding=1),\n",
    "                    nn.ReLU()\n",
    "            )\n",
    "            self.encoders.append(encoder)\n",
    "        \n",
    "        # Decoder\n",
    "        self.decoder4 = self.expanding_block(3*n_dim, 256)\n",
    "        self.decoder3 = self.expanding_block(256, 128)\n",
    "        self.decoder2 = self.expanding_block(128, 64)\n",
    "        self.decoder1 = self.expanding_block(64, 32)\n",
    "        \n",
    "        # Output layer\n",
    "        self.output = nn.Conv2d(32, n_class, kernel_size=1)\n",
    "        \n",
    "        # Initialize the weights\n",
    "        self.initialize_weights()\n",
    "        \n",
    "    def expanding_block(self, in_channels, out_channels):\n",
    "#         block = nn.Sequential(\n",
    "#             nn.Conv2d(in_channels, out_channels, kernel_size=3, padding=1),\n",
    "#             nn.ReLU(inplace=True),\n",
    "#             nn.BatchNorm2d(out_channels),\n",
    "#             nn.Conv2d(out_channels, out_channels, kernel_size=3, padding=1),\n",
    "#             nn.ReLU(inplace=True),\n",
    "#             nn.BatchNorm2d(out_channels),\n",
    "#             nn.ConvTranspose2d(out_channels, in_channels // 2, kernel_size=2, stride=2),\n",
    "#             nn.ReLU(inplace=True),\n",
    "#             nn.BatchNorm2d(in_channels // 2)\n",
    "#         )\n",
    "        block = nn.Sequential(\n",
    "            nn.Conv2d(in_channels, in_channels // 2, kernel_size=3, padding=1),\n",
    "            nn.ReLU(inplace=True),\n",
    "            nn.BatchNorm2d(in_channels // 2),\n",
    "            nn.Conv2d(in_channels // 2, in_channels // 2, kernel_size=3, padding=1),\n",
    "            nn.ReLU(inplace=True),\n",
    "            nn.BatchNorm2d(in_channels // 2),\n",
    "            nn.ConvTranspose2d(in_channels // 2, out_channels, kernel_size=2, stride=2),\n",
    "            nn.ReLU(inplace=True),\n",
    "            nn.BatchNorm2d(out_channels)\n",
    "        )\n",
    "        return block\n",
    "    \n",
    "    def forward(self, x):\n",
    "        # Encoder (SSL model)\n",
    "        encoder_outputs = []\n",
    "        for j in range(num_scales):\n",
    "            encoder_outputs.append(model.encoders[j](x))\n",
    "        features = torch.cat(encoder_outputs, dim=1)\n",
    "        \n",
    "        # Decoder\n",
    "        decode4 = self.decoder4(features)\n",
    "        decode3 = self.decoder3(decode4)\n",
    "        decode2 = self.decoder2(decode3)\n",
    "        decode1 = self.decoder1(decode2)\n",
    "        \n",
    "        # Output\n",
    "        output = self.output(decode1)\n",
    "        return output\n",
    "\n",
    "    def initialize_weights(self):\n",
    "        for m in self.modules():\n",
    "            if isinstance(m, nn.Conv2d) or isinstance(m, nn.ConvTranspose2d):\n",
    "                nn.init.kaiming_uniform_(m.weight)\n",
    "                if m.bias is not None:\n",
    "                    nn.init.constant_(m.bias, 0)\n",
    "            elif isinstance(m, nn.BatchNorm2d):\n",
    "                nn.init.constant_(m.weight, 1)\n",
    "                nn.init.constant_(m.bias, 0)"
   ]
  },
  {
   "cell_type": "code",
   "execution_count": 21,
   "metadata": {},
   "outputs": [],
   "source": [
    "input_transform = transforms.Compose([\n",
    "    transforms.Resize((128, 128)),  \n",
    "    transforms.ToTensor(),\n",
    "    transforms.Normalize(*mean_std)\n",
    "])\n",
    "\n",
    "target_transform = transforms.Compose([\n",
    "    transforms.Resize((128, 128)),\n",
    "    MaskToTensor()\n",
    "])\n",
    "\n",
    "original_train_dataset =VOC('train2007', transform=input_transform, target_transform=target_transform)\n",
    "original_val_dataset = VOC('val2007', transform=input_transform, target_transform=target_transform)\n",
    "train_loader = DataLoader(dataset=original_train_dataset, batch_size= 16, shuffle=True, num_workers=NUM_WORKERS, prefetch_factor=PREFETCH_FACTOR, pin_memory=True)\n",
    "val_loader = DataLoader(dataset=original_val_dataset, batch_size= 16, shuffle=False, num_workers=NUM_WORKERS, prefetch_factor=PREFETCH_FACTOR, pin_memory=True)"
   ]
  },
  {
   "cell_type": "markdown",
   "metadata": {},
   "source": [
    "## Training with SSL Encoder"
   ]
  },
  {
   "cell_type": "code",
   "execution_count": 23,
   "metadata": {
    "id": "ZQONHMeGPIPO",
    "scrolled": true
   },
   "outputs": [
    {
     "name": "stderr",
     "output_type": "stream",
     "text": [
      "/tmp/ipykernel_3217984/947401404.py:38: UserWarning: Implicit dimension choice for softmax has been deprecated. Change the call to include dim=X as an argument.\n",
      "  trainOutputs = F.softmax(trainOutputs)\n"
     ]
    },
    {
     "name": "stdout",
     "output_type": "stream",
     "text": [
      "==> epoch0, iter0, Train set=> loss: 3.049508810043335, IOU: 0.00878080081020055, Acc: 0.03955841064453125\n",
      "==> epoch0, iter10, Train set=> loss: 3.0067903995513916, IOU: 0.013454811583068863, Acc: 0.12240982055664062\n",
      "Finish epoch 0, time elapsed 17.439613342285156\n",
      "=========> Loss at epoch 0 is 2.915529830115182\n",
      "=========> IoU at epoch 0 is 0.018829854436186816\n",
      "=========> Pixel acc at epoch 0 is 0.26050376892089844\n",
      "==> epoch1, iter0, Train set=> loss: 2.9780921936035156, IOU: 0.017818805337258353, Acc: 0.17489242553710938\n",
      "==> epoch1, iter10, Train set=> loss: 2.865567445755005, IOU: 0.0230894210159626, Acc: 0.3063240051269531\n",
      "Finish epoch 1, time elapsed 16.258525133132935\n",
      "=========> Loss at epoch 1 is 2.849458030291966\n",
      "=========> IoU at epoch 1 is 0.022302621161260545\n",
      "=========> Pixel acc at epoch 1 is 0.3076403481619699\n",
      "==> epoch2, iter0, Train set=> loss: 2.8227686882019043, IOU: 0.025886121766496236, Acc: 0.3467369079589844\n",
      "==> epoch2, iter10, Train set=> loss: 2.761958599090576, IOU: 0.02710740674000678, Acc: 0.3872642517089844\n",
      "Finish epoch 2, time elapsed 16.476327657699585\n",
      "=========> Loss at epoch 2 is 2.7681582484926497\n",
      "=========> IoU at epoch 2 is 0.02498218037665242\n",
      "=========> Pixel acc at epoch 2 is 0.3722638811383928\n",
      "==> epoch3, iter0, Train set=> loss: 2.7333672046661377, IOU: 0.025422613393372696, Acc: 0.4303932189941406\n",
      "==> epoch3, iter10, Train set=> loss: 2.6904242038726807, IOU: 0.03004602809535987, Acc: 0.4802970886230469\n",
      "Finish epoch 3, time elapsed 16.470714807510376\n",
      "=========> Loss at epoch 3 is 2.694681167602539\n",
      "=========> IoU at epoch 3 is 0.027132760735572237\n",
      "=========> Pixel acc at epoch 3 is 0.42960172380719863\n",
      "==> epoch4, iter0, Train set=> loss: 2.7081830501556396, IOU: 0.03064365475179647, Acc: 0.4479522705078125\n",
      "==> epoch4, iter10, Train set=> loss: 2.68806791305542, IOU: 0.028880972523139824, Acc: 0.44545745849609375\n",
      "Finish epoch 4, time elapsed 17.506385564804077\n",
      "=========> Loss at epoch 4 is 2.572789652006967\n",
      "=========> IoU at epoch 4 is 0.03358739432689568\n",
      "=========> Pixel acc at epoch 4 is 0.5574627467564174\n",
      "==> epoch5, iter0, Train set=> loss: 2.665597915649414, IOU: 0.03817733150335284, Acc: 0.49657440185546875\n",
      "==> epoch5, iter10, Train set=> loss: 2.5960187911987305, IOU: 0.035621235514038396, Acc: 0.5528755187988281\n",
      "Finish epoch 5, time elapsed 16.611050128936768\n",
      "=========> Loss at epoch 5 is 2.6122587067740306\n",
      "=========> IoU at epoch 5 is 0.03245135640819164\n",
      "=========> Pixel acc at epoch 5 is 0.5155676705496652\n",
      "==> epoch6, iter0, Train set=> loss: 2.6438052654266357, IOU: 0.03598992950226316, Acc: 0.503753662109375\n",
      "==> epoch6, iter10, Train set=> loss: 2.6129701137542725, IOU: 0.03481863675665321, Acc: 0.5306892395019531\n",
      "Finish epoch 6, time elapsed 16.172847986221313\n",
      "=========> Loss at epoch 6 is 2.575946092605591\n",
      "=========> IoU at epoch 6 is 0.03339108400157281\n",
      "=========> Pixel acc at epoch 6 is 0.5505632128034319\n",
      "==> epoch7, iter0, Train set=> loss: 2.593810796737671, IOU: 0.03758807606006997, Acc: 0.5548439025878906\n",
      "==> epoch7, iter10, Train set=> loss: 2.6082587242126465, IOU: 0.035176917484964904, Acc: 0.5307464599609375\n",
      "Finish epoch 7, time elapsed 16.74205255508423\n",
      "=========> Loss at epoch 7 is 2.525570954595293\n",
      "=========> IoU at epoch 7 is 0.03488763453986337\n",
      "=========> Pixel acc at epoch 7 is 0.6077269962855747\n",
      "==> epoch8, iter0, Train set=> loss: 2.6102771759033203, IOU: 0.03634210024366354, Acc: 0.5401878356933594\n",
      "==> epoch8, iter10, Train set=> loss: 2.579927921295166, IOU: 0.03761903810127642, Acc: 0.5634803771972656\n",
      "Finish epoch 8, time elapsed 16.346128940582275\n",
      "=========> Loss at epoch 8 is 2.534439597811018\n",
      "=========> IoU at epoch 8 is 0.035196473100236145\n",
      "=========> Pixel acc at epoch 8 is 0.5979171207972935\n",
      "==> epoch9, iter0, Train set=> loss: 2.5644190311431885, IOU: 0.03566694473705732, Acc: 0.5851707458496094\n",
      "==> epoch9, iter10, Train set=> loss: 2.5525341033935547, IOU: 0.03833619701420478, Acc: 0.594482421875\n",
      "Finish epoch 9, time elapsed 16.31863307952881\n",
      "=========> Loss at epoch 9 is 2.523967453411647\n",
      "=========> IoU at epoch 9 is 0.03586459316069359\n",
      "=========> Pixel acc at epoch 9 is 0.6085302080426898\n"
     ]
    }
   ],
   "source": [
    "# Create the U-Net model\n",
    "\n",
    "unet_ssl_model = UNet_ssl(n_class=21)  # Assuming 21 classes for segmentation\n",
    "\n",
    "# Load the SSL model weights\n",
    "# ssl_model_weights = torch.load('my_ssl.pth', map_location=torch.device(device))\n",
    "# unet_ssl_model.encoder.load_state_dict(ssl_model_weights)\n",
    "unet_ssl_model.encoders = model.encoders\n",
    "# for param in unet_ssl_model.encoder.parameters():\n",
    "#     param.required_grad = True\n",
    "\n",
    "# Move the U-Net model to the desired device (e.g., GPU)\n",
    "device = torch.device('cuda:3' if torch.cuda.is_available() else 'cpu')\n",
    "unet_ssl_model = unet_ssl_model.to(device)\n",
    "\n",
    "# # Print the U-Net model architecture\n",
    "# print(unet_ssl_model)\n",
    "\n",
    "epochs = 10\n",
    "from torch import optim\n",
    "optimizer = optim.Adam(unet_ssl_model.parameters(), lr=0.0005)#  choose an optimizer\n",
    "criterion = torch.nn.CrossEntropyLoss()\n",
    "trainEpochLoss_ssl, trainEpochIOU_ssl, trainEpochAccuracy_ssl, valEpochLoss_ssl, valEpochIOU_ssl, valEpochAccuracy_ssl = train(unet_ssl_model)"
   ]
  },
  {
   "cell_type": "markdown",
   "metadata": {
    "colab": {
     "base_uri": "https://localhost:8080/",
     "height": 325
    },
    "id": "GbCVDRxGPIRF",
    "outputId": "bcff3e81-c437-45f8-a6fa-5ca8a16ab5b2"
   },
   "source": [
    "## Training without SSL Encoder"
   ]
  },
  {
   "cell_type": "code",
   "execution_count": 24,
   "metadata": {
    "id": "byUEBl3EQehW",
    "scrolled": true
   },
   "outputs": [
    {
     "name": "stderr",
     "output_type": "stream",
     "text": [
      "/tmp/ipykernel_3217984/947401404.py:38: UserWarning: Implicit dimension choice for softmax has been deprecated. Change the call to include dim=X as an argument.\n",
      "  trainOutputs = F.softmax(trainOutputs)\n"
     ]
    },
    {
     "name": "stdout",
     "output_type": "stream",
     "text": [
      "==> epoch0, iter0, Train set=> loss: 3.0480949878692627, IOU: 0.012298358272059804, Acc: 0.04242706298828125\n",
      "==> epoch0, iter10, Train set=> loss: 3.0004470348358154, IOU: 0.015002883377262525, Acc: 0.14213943481445312\n",
      "Finish epoch 0, time elapsed 17.297724962234497\n",
      "=========> Loss at epoch 0 is 3.0469441754477367\n",
      "=========> IoU at epoch 0 is 0.008034349476353647\n",
      "=========> Pixel acc at epoch 0 is 0.08879628862653459\n",
      "==> epoch1, iter0, Train set=> loss: 2.965047597885132, IOU: 0.017886649794812207, Acc: 0.17327117919921875\n",
      "==> epoch1, iter10, Train set=> loss: 2.889523506164551, IOU: 0.019522257268340584, Acc: 0.2517509460449219\n",
      "Finish epoch 1, time elapsed 16.73691439628601\n",
      "=========> Loss at epoch 1 is 2.939580661909921\n",
      "=========> IoU at epoch 1 is 0.016958025535598605\n",
      "=========> Pixel acc at epoch 1 is 0.20536962236676898\n",
      "==> epoch2, iter0, Train set=> loss: 2.883026123046875, IOU: 0.02609100339081949, Acc: 0.26129150390625\n",
      "==> epoch2, iter10, Train set=> loss: 2.827014684677124, IOU: 0.02698819271080449, Acc: 0.31392669677734375\n",
      "Finish epoch 2, time elapsed 16.075932264328003\n",
      "=========> Loss at epoch 2 is 2.837703159877232\n",
      "=========> IoU at epoch 2 is 0.02342813608575727\n",
      "=========> Pixel acc at epoch 2 is 0.2966675349644253\n",
      "==> epoch3, iter0, Train set=> loss: 2.8372819423675537, IOU: 0.025710366569984298, Acc: 0.2965354919433594\n",
      "==> epoch3, iter10, Train set=> loss: 2.7948060035705566, IOU: 0.023733209070831235, Acc: 0.3461761474609375\n",
      "Finish epoch 3, time elapsed 16.39933967590332\n",
      "=========> Loss at epoch 3 is 2.7719102076121738\n",
      "=========> IoU at epoch 3 is 0.027329702646946563\n",
      "=========> Pixel acc at epoch 3 is 0.3646749768938337\n",
      "==> epoch4, iter0, Train set=> loss: 2.7844696044921875, IOU: 0.028828572974766344, Acc: 0.3542327880859375\n",
      "==> epoch4, iter10, Train set=> loss: 2.7538657188415527, IOU: 0.027370740164040536, Acc: 0.3799896240234375\n",
      "Finish epoch 4, time elapsed 16.431196451187134\n",
      "=========> Loss at epoch 4 is 2.7643330097198486\n",
      "=========> IoU at epoch 4 is 0.02485878039470064\n",
      "=========> Pixel acc at epoch 4 is 0.36252937316894535\n",
      "==> epoch5, iter0, Train set=> loss: 2.73414945602417, IOU: 0.029066513543603796, Acc: 0.39885711669921875\n",
      "==> epoch5, iter10, Train set=> loss: 2.7361557483673096, IOU: 0.030905450852619958, Acc: 0.3969001770019531\n",
      "Finish epoch 5, time elapsed 16.58538246154785\n",
      "=========> Loss at epoch 5 is 2.73751894065312\n",
      "=========> IoU at epoch 5 is 0.024787264830773283\n",
      "=========> Pixel acc at epoch 5 is 0.3871577671595982\n",
      "==> epoch6, iter0, Train set=> loss: 2.7106566429138184, IOU: 0.02865804282399549, Acc: 0.4156990051269531\n",
      "==> epoch6, iter10, Train set=> loss: 2.7091758251190186, IOU: 0.03255084838234231, Acc: 0.4474449157714844\n",
      "Finish epoch 6, time elapsed 16.3572678565979\n",
      "=========> Loss at epoch 6 is 2.690421325819833\n",
      "=========> IoU at epoch 6 is 0.027217546666913697\n",
      "=========> Pixel acc at epoch 6 is 0.43312966482979914\n",
      "==> epoch7, iter0, Train set=> loss: 2.72060489654541, IOU: 0.03015115465841882, Acc: 0.4170494079589844\n",
      "==> epoch7, iter10, Train set=> loss: 2.6870346069335938, IOU: 0.027905527291218295, Acc: 0.4410209655761719\n",
      "Finish epoch 7, time elapsed 16.609126329421997\n",
      "=========> Loss at epoch 7 is 2.7032651730946133\n",
      "=========> IoU at epoch 7 is 0.02718163628034848\n",
      "=========> Pixel acc at epoch 7 is 0.41758177621023995\n",
      "==> epoch8, iter0, Train set=> loss: 2.6892497539520264, IOU: 0.028129706385759914, Acc: 0.4346046447753906\n",
      "==> epoch8, iter10, Train set=> loss: 2.6779966354370117, IOU: 0.0310488939425344, Acc: 0.4444847106933594\n",
      "Finish epoch 8, time elapsed 16.730693578720093\n",
      "=========> Loss at epoch 8 is 2.689951811517988\n",
      "=========> IoU at epoch 8 is 0.028891867074122897\n",
      "=========> Pixel acc at epoch 8 is 0.42953077043805804\n",
      "==> epoch9, iter0, Train set=> loss: 2.6871254444122314, IOU: 0.027461970064643078, Acc: 0.4332427978515625\n",
      "==> epoch9, iter10, Train set=> loss: 2.6506025791168213, IOU: 0.03160775995609298, Acc: 0.47491455078125\n",
      "Finish epoch 9, time elapsed 16.29298210144043\n",
      "=========> Loss at epoch 9 is 2.683857406888689\n",
      "=========> IoU at epoch 9 is 0.029457807813329955\n",
      "=========> Pixel acc at epoch 9 is 0.43429189409528457\n"
     ]
    }
   ],
   "source": [
    "# Create the U-Net model\n",
    "\n",
    "unet_model = UNet_ssl(n_class=21, n_dim=512)  # Assuming 21 classes for segmentation\n",
    "unet_model = unet_model.to(device)\n",
    "optimizer = optim.Adam(unet_model.parameters(), lr=0.0005)#  choose an optimizer\n",
    "criterion = torch.nn.CrossEntropyLoss()\n",
    "epochs = 10\n",
    "trainEpochLoss, trainEpochIOU, trainEpochAccuracy, valEpochLoss, valEpochIOU, valEpochAccuracy = train(unet_model)"
   ]
  },
  {
   "cell_type": "markdown",
   "metadata": {},
   "source": [
    "## Plot"
   ]
  },
  {
   "cell_type": "code",
   "execution_count": 29,
   "metadata": {},
   "outputs": [
    {
     "data": {
      "image/png": "[encoded data removed]",
      "text/plain": [
       "<Figure size 640x480 with 1 Axes>"
      ]
     },
     "metadata": {},
     "output_type": "display_data"
    }
   ],
   "source": [
    "epochs = range(len(valEpochIOU))\n",
    "\n",
    "plt.plot(epochs, valEpochIOU, marker='o', label='Normal Architecture')\n",
    "plt.plot(epochs, valEpochIOU_ssl, marker='o', label='SSL model')\n",
    "\n",
    "plt.xlabel('Epoch')\n",
    "plt.ylabel('IoU')\n",
    "plt.title('IoU over Epochs')\n",
    "plt.legend()\n",
    "plt.grid(True)\n",
    "plt.show()"
   ]
  },
  {
   "cell_type": "code",
   "execution_count": 30,
   "metadata": {},
   "outputs": [
    {
     "data": {
      "image/png": "[encoded data removed]",
      "text/plain": [
       "<Figure size 640x480 with 1 Axes>"
      ]
     },
     "metadata": {},
     "output_type": "display_data"
    }
   ],
   "source": [
    "plt.plot(epochs, valEpochAccuracy, marker='o', label='Normal Architecture')\n",
    "plt.plot(epochs, valEpochAccuracy_ssl, marker='o', label='SSL model')\n",
    "\n",
    "plt.xlabel('Epoch')\n",
    "plt.ylabel('Accuracy')\n",
    "plt.title('Pixel Acc over Epochs')\n",
    "plt.legend()\n",
    "plt.grid(True)\n",
    "plt.show()"
   ]
  },
  {
   "cell_type": "code",
   "execution_count": 31,
   "metadata": {},
   "outputs": [
    {
     "data": {
      "image/png": "[encoded data removed]",
      "text/plain": [
       "<Figure size 640x480 with 1 Axes>"
      ]
     },
     "metadata": {},
     "output_type": "display_data"
    }
   ],
   "source": [
    "plt.plot(epochs, valEpochLoss, marker='o', label='Normal Architecture')\n",
    "plt.plot(epochs, valEpochLoss_ssl, marker='o', label='SSL model')\n",
    "\n",
    "plt.xlabel('Epoch')\n",
    "plt.ylabel('Loss')\n",
    "plt.title('Loss over Epochs')\n",
    "plt.legend()\n",
    "plt.grid(True)\n",
    "plt.show()"
   ]
  },
  {
   "cell_type": "code",
   "execution_count": 33,
   "metadata": {},
   "outputs": [],
   "source": [
    "torch.save(model.state_dict(), 'ssl_model.pth')"
   ]
  }
 ],
 "metadata": {
  "accelerator": "GPU",
  "colab": {
   "gpuType": "T4",
   "provenance": []
  },
  "kernelspec": {
   "display_name": "My acv",
   "language": "python",
   "name": "acv"
  },
  "language_info": {
   "codemirror_mode": {
    "name": "ipython",
    "version": 3
   },
   "file_extension": ".py",
   "mimetype": "text/x-python",
   "name": "python",
   "nbconvert_exporter": "python",
   "pygments_lexer": "ipython3",
   "version": "3.8.10"
  }
 },
 "nbformat": 4,
 "nbformat_minor": 1
}
