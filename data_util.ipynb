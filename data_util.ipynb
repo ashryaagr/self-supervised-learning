{
 "cells": [
  {
   "cell_type": "markdown",
   "id": "fb4067fb",
   "metadata": {},
   "source": [
    "# Imports"
   ]
  },
  {
   "cell_type": "code",
   "execution_count": 4,
   "id": "55609867",
   "metadata": {
    "scrolled": true
   },
   "outputs": [
    {
     "name": "stdout",
     "output_type": "stream",
     "text": [
      "Defaulting to user installation because normal site-packages is not writeable\n",
      "Requirement already satisfied: torchvision in /home/degarg/.local/lib/python3.9/site-packages (0.15.2)\n",
      "Requirement already satisfied: numpy in /opt/conda/lib/python3.9/site-packages (from torchvision) (1.22.4)\n",
      "Requirement already satisfied: pillow!=8.3.*,>=5.3.0 in /home/degarg/.local/lib/python3.9/site-packages (from torchvision) (9.5.0)\n",
      "Requirement already satisfied: requests in /opt/conda/lib/python3.9/site-packages (from torchvision) (2.26.0)\n",
      "Requirement already satisfied: torch==2.0.1 in /home/degarg/.local/lib/python3.9/site-packages (from torchvision) (2.0.1)\n",
      "Requirement already satisfied: nvidia-cusparse-cu11==11.7.4.91 in /home/degarg/.local/lib/python3.9/site-packages (from torch==2.0.1->torchvision) (11.7.4.91)\n",
      "Requirement already satisfied: nvidia-cuda-runtime-cu11==11.7.99 in /home/degarg/.local/lib/python3.9/site-packages (from torch==2.0.1->torchvision) (11.7.99)\n",
      "Requirement already satisfied: nvidia-nccl-cu11==2.14.3 in /home/degarg/.local/lib/python3.9/site-packages (from torch==2.0.1->torchvision) (2.14.3)\n",
      "Requirement already satisfied: networkx in /opt/conda/lib/python3.9/site-packages (from torch==2.0.1->torchvision) (2.5)\n",
      "Requirement already satisfied: sympy in /opt/conda/lib/python3.9/site-packages (from torch==2.0.1->torchvision) (1.8)\n",
      "Requirement already satisfied: filelock in /home/degarg/.local/lib/python3.9/site-packages (from torch==2.0.1->torchvision) (3.12.0)\n",
      "Requirement already satisfied: nvidia-cudnn-cu11==8.5.0.96 in /home/degarg/.local/lib/python3.9/site-packages (from torch==2.0.1->torchvision) (8.5.0.96)\n",
      "Requirement already satisfied: nvidia-curand-cu11==10.2.10.91 in /home/degarg/.local/lib/python3.9/site-packages (from torch==2.0.1->torchvision) (10.2.10.91)\n",
      "Requirement already satisfied: nvidia-cuda-cupti-cu11==11.7.101 in /home/degarg/.local/lib/python3.9/site-packages (from torch==2.0.1->torchvision) (11.7.101)\n",
      "Requirement already satisfied: nvidia-cusolver-cu11==11.4.0.1 in /home/degarg/.local/lib/python3.9/site-packages (from torch==2.0.1->torchvision) (11.4.0.1)\n",
      "Requirement already satisfied: typing-extensions in /opt/conda/lib/python3.9/site-packages (from torch==2.0.1->torchvision) (4.5.0)\n",
      "Requirement already satisfied: nvidia-cuda-nvrtc-cu11==11.7.99 in /home/degarg/.local/lib/python3.9/site-packages (from torch==2.0.1->torchvision) (11.7.99)\n",
      "Requirement already satisfied: nvidia-nvtx-cu11==11.7.91 in /home/degarg/.local/lib/python3.9/site-packages (from torch==2.0.1->torchvision) (11.7.91)\n",
      "Requirement already satisfied: nvidia-cufft-cu11==10.9.0.58 in /home/degarg/.local/lib/python3.9/site-packages (from torch==2.0.1->torchvision) (10.9.0.58)\n",
      "Requirement already satisfied: triton==2.0.0 in /home/degarg/.local/lib/python3.9/site-packages (from torch==2.0.1->torchvision) (2.0.0)\n",
      "Requirement already satisfied: nvidia-cublas-cu11==11.10.3.66 in /home/degarg/.local/lib/python3.9/site-packages (from torch==2.0.1->torchvision) (11.10.3.66)\n",
      "Requirement already satisfied: jinja2 in /opt/conda/lib/python3.9/site-packages (from torch==2.0.1->torchvision) (3.0.1)\n",
      "Requirement already satisfied: wheel in /opt/conda/lib/python3.9/site-packages (from nvidia-cublas-cu11==11.10.3.66->torch==2.0.1->torchvision) (0.36.2)\n",
      "Requirement already satisfied: setuptools in /opt/conda/lib/python3.9/site-packages (from nvidia-cublas-cu11==11.10.3.66->torch==2.0.1->torchvision) (49.6.0.post20210108)\n",
      "Requirement already satisfied: lit in /home/degarg/.local/lib/python3.9/site-packages (from triton==2.0.0->torch==2.0.1->torchvision) (16.0.5.post0)\n",
      "Requirement already satisfied: cmake in /home/degarg/.local/lib/python3.9/site-packages (from triton==2.0.0->torch==2.0.1->torchvision) (3.26.3)\n",
      "Requirement already satisfied: MarkupSafe>=2.0 in /opt/conda/lib/python3.9/site-packages (from jinja2->torch==2.0.1->torchvision) (2.1.2)\n",
      "Requirement already satisfied: decorator>=4.3.0 in /opt/conda/lib/python3.9/site-packages (from networkx->torch==2.0.1->torchvision) (5.0.9)\n",
      "Requirement already satisfied: charset-normalizer~=2.0.0 in /opt/conda/lib/python3.9/site-packages (from requests->torchvision) (2.0.0)\n",
      "Requirement already satisfied: certifi>=2017.4.17 in /opt/conda/lib/python3.9/site-packages (from requests->torchvision) (2023.5.7)\n",
      "Requirement already satisfied: urllib3<1.27,>=1.21.1 in /opt/conda/lib/python3.9/site-packages (from requests->torchvision) (1.26.6)\n",
      "Requirement already satisfied: idna<4,>=2.5 in /opt/conda/lib/python3.9/site-packages (from requests->torchvision) (3.1)\n",
      "Requirement already satisfied: mpmath>=0.19 in /opt/conda/lib/python3.9/site-packages (from sympy->torch==2.0.1->torchvision) (1.2.1)\n"
     ]
    }
   ],
   "source": [
    "!pip install -U torchvision"
   ]
  },
  {
   "cell_type": "code",
   "execution_count": 52,
   "id": "9e9b9a1a",
   "metadata": {},
   "outputs": [],
   "source": [
    "from torchvision import datasets\n",
    "from IPython.display import display\n",
    "import torchvision.transforms.functional as F\n",
    "import os\n",
    "import numpy as np\n",
    "from PIL import Image\n",
    "import cv2\n",
    "import Augmentor"
   ]
  },
  {
   "cell_type": "markdown",
   "id": "4f1a41bc",
   "metadata": {},
   "source": [
    "## Gaussian Pyramid Levels"
   ]
  },
  {
   "cell_type": "code",
   "execution_count": 27,
   "id": "8caa20d4",
   "metadata": {},
   "outputs": [],
   "source": [
    "def get_level(img, times):\n",
    "    out = img.copy()\n",
    "    while times > 0:\n",
    "        out = cv2.pyrDown(out)\n",
    "        times -= 1\n",
    "    return out"
   ]
  },
  {
   "cell_type": "code",
   "execution_count": 28,
   "id": "643726dd",
   "metadata": {},
   "outputs": [],
   "source": [
    "train_dataset = datasets.OxfordIIITPet(root=\"pet\", download=True)"
   ]
  },
  {
   "cell_type": "code",
   "execution_count": 29,
   "id": "18c342fd",
   "metadata": {},
   "outputs": [
    {
     "name": "stdout",
     "output_type": "stream",
     "text": [
      "{0, 1, 2, 3, 4, 5, 6, 7, 8, 9, 10, 11, 12, 13, 14, 15, 16, 17, 18, 19, 20, 21, 22, 23, 24, 25, 26, 27, 28, 29, 30, 31, 32, 33, 34, 35, 36}\n"
     ]
    }
   ],
   "source": [
    "classes = set()\n",
    "for sample, label in train_dataset:\n",
    "    classes.add(label)\n",
    "\n",
    "print(classes)"
   ]
  },
  {
   "cell_type": "code",
   "execution_count": 64,
   "id": "9ac9c1fb",
   "metadata": {},
   "outputs": [],
   "source": [
    "def get_count(parent):\n",
    "    count = 0\n",
    "    for f in os.listdir(parent):\n",
    "        if os.path.isfile(os.path.join(parent, f)):\n",
    "            count += 1\n",
    "    print(f\"Number of files: {count}\")\n",
    "    return"
   ]
  },
  {
   "cell_type": "code",
   "execution_count": 65,
   "id": "1bc40232",
   "metadata": {},
   "outputs": [],
   "source": [
    "# collect image paths\n",
    "src = \"pet/oxford-iiit-pet/images\"\n",
    "\n",
    "paths = []\n",
    "for f in sorted(os.listdir(src)):\n",
    "    img = os.path.join(src, f)\n",
    "    if img.endswith('.jpg'):\n",
    "        paths.append(img)"
   ]
  },
  {
   "cell_type": "code",
   "execution_count": 66,
   "id": "8cd1b14b",
   "metadata": {},
   "outputs": [
    {
     "name": "stdout",
     "output_type": "stream",
     "text": [
      "Number of images: 29560\n"
     ]
    }
   ],
   "source": [
    "print(f\"Number of images: {len(paths)}\")"
   ]
  },
  {
   "cell_type": "code",
   "execution_count": 67,
   "id": "384442f4",
   "metadata": {},
   "outputs": [],
   "source": [
    "# create gaussian pyramids of the images\n",
    "parent = src\n",
    "dst = \"pet/train\"\n",
    "\n",
    "# iterate through the directory\n",
    "count = 0\n",
    "for f in sorted(os.listdir(parent)):\n",
    "    fpath = os.path.join(parent, f)\n",
    "    if not fpath.endswith(\"_d.jpg\") and fpath.endswith(\".jpg\"):\n",
    "        \n",
    "        # read in the image\n",
    "        img = np.array(Image.open(fpath))\n",
    "        \n",
    "        fpathnew = os.path.join(dst, f\"{count}.jpg\")\n",
    "        count += 1\n",
    "\n",
    "        # convert to BGR\n",
    "        img = cv2.cvtColor(img, cv2.COLOR_RGB2BGR)\n",
    "        \n",
    "        if type(img) == type(None):\n",
    "            print(fpath)\n",
    "\n",
    "        # downsample once, twice, thrice\n",
    "        for i in range(1, 4):\n",
    "            dimg = get_level(img, i)\n",
    "            dpath = fpathnew.replace(\".jpg\", f\"_{i}_d.jpg\")\n",
    "            cv2.imwrite(dpath, dimg)\n",
    "        cv2.imwrite(fpathnew, img)"
   ]
  },
  {
   "cell_type": "code",
   "execution_count": 68,
   "id": "766f87ab",
   "metadata": {},
   "outputs": [
    {
     "name": "stdout",
     "output_type": "stream",
     "text": [
      "Number of files: 29560\n"
     ]
    }
   ],
   "source": [
    "# images after the gaussian images have been added\n",
    "get_count(dst)"
   ]
  },
  {
   "cell_type": "code",
   "execution_count": 69,
   "id": "2fc92c3c",
   "metadata": {},
   "outputs": [
    {
     "name": "stdout",
     "output_type": "stream",
     "text": [
      "Initialised with 29560 image(s) found.\n",
      "Output directory set to pet/train/output."
     ]
    }
   ],
   "source": [
    "# augment the images\n",
    "\n",
    "p = Augmentor.Pipeline(dst)\n",
    "p.rotate(probability=0.5, max_left_rotation=10, max_right_rotation=10)\n",
    "p.flip_left_right(probability=0.75)\n",
    "p.crop_random(probability=0.5, percentage_area=0.85)\n",
    "p.shear(probability=0.5, max_shear_left=10, max_shear_right=15)\n",
    "p.random_distortion(probability=0.5, grid_width=8, grid_height=8, magnitude=8)"
   ]
  },
  {
   "cell_type": "code",
   "execution_count": 70,
   "id": "a570d4e6",
   "metadata": {},
   "outputs": [
    {
     "name": "stderr",
     "output_type": "stream",
     "text": [
      "Processing <PIL.Image.Image image mode=RGB size=425x319 at 0x7FA600C3A280>:  55%|█████▌    | 16517/30000 [03:26<00:16, 825.67 Samples/s]                   IOPub message rate exceeded.\n",
      "The notebook server will temporarily stop sending output\n",
      "to the client in order to avoid crashing it.\n",
      "To change this limit, set the config variable\n",
      "`--NotebookApp.iopub_msg_rate_limit`.\n",
      "\n",
      "Current values:\n",
      "NotebookApp.iopub_msg_rate_limit=1000.0 (msgs/sec)\n",
      "NotebookApp.rate_limit_window=3.0 (secs)\n",
      "\n",
      "Processing <PIL.Image.Image image mode=RGB size=125x94 at 0x7FA58D165550>:  70%|██████▉   | 20927/30000 [03:30<00:08, 1025.17 Samples/s]                   IOPub message rate exceeded.\n",
      "The notebook server will temporarily stop sending output\n",
      "to the client in order to avoid crashing it.\n",
      "To change this limit, set the config variable\n",
      "`--NotebookApp.iopub_msg_rate_limit`.\n",
      "\n",
      "Current values:\n",
      "NotebookApp.iopub_msg_rate_limit=1000.0 (msgs/sec)\n",
      "NotebookApp.rate_limit_window=3.0 (secs)\n",
      "\n",
      "Processing <PIL.Image.Image image mode=RGB size=71x106 at 0x7FA5E0E6B970>:  82%|████████▏ | 24537/30000 [03:34<00:04, 1145.77 Samples/s]                   IOPub message rate exceeded.\n",
      "The notebook server will temporarily stop sending output\n",
      "to the client in order to avoid crashing it.\n",
      "To change this limit, set the config variable\n",
      "`--NotebookApp.iopub_msg_rate_limit`.\n",
      "\n",
      "Current values:\n",
      "NotebookApp.iopub_msg_rate_limit=1000.0 (msgs/sec)\n",
      "NotebookApp.rate_limit_window=3.0 (secs)\n",
      "\n",
      "Processing <PIL.Image.Image image mode=RGB size=42x63 at 0x7FA583272CA0>: 100%|██████████| 30000/30000 [03:40<00:00, 136.13 Samples/s]                     \n"
     ]
    }
   ],
   "source": [
    "p.sample(30000)"
   ]
  },
  {
   "cell_type": "code",
   "execution_count": 20,
   "id": "6393e1ef",
   "metadata": {},
   "outputs": [],
   "source": [
    "def get_triplets(parent):\n",
    "    \"\"\" Given the parent directory form triplets using paths \"\"\"\n",
    "    \n",
    "    data = {}\n",
    "    \n",
    "    flist = set()\n",
    "    for f in os.listdir(parent):\n",
    "        fpath = os.path.join(parent, f)\n",
    "        flist.add(fpath)\n",
    "    \n",
    "    for f in os.listdir(parent):\n",
    "        fpath = os.path.join(parent, f)\n",
    "        if not fpath.endswith(\"_d.jpg\"):\n",
    "            \n",
    "            data[fpath] = {\"n\": [], \"p\": []}\n",
    "            \n",
    "            # get the positives\n",
    "            for i in range(1, 4):\n",
    "                ppath = fpath.replace(\".png\", f\"_{i}_d.png\")\n",
    "                data[fpath][\"p\"].append(ppath)\n",
    "            \n",
    "            # get the negatives\n",
    "            # copy the entire file list\n",
    "            data[fpath][\"n\"] = flist.copy()\n",
    "            \n",
    "            # get rid of the positive ones\n",
    "            for i in data[fpath][\"p\"]:\n",
    "                data[fpath][\"n\"].remove(i)\n",
    "    return data"
   ]
  },
  {
   "cell_type": "code",
   "execution_count": 22,
   "id": "b6b06647",
   "metadata": {},
   "outputs": [],
   "source": [
    "data = get_triplets(\"mnist/utrain\")"
   ]
  },
  {
   "cell_type": "code",
   "execution_count": 82,
   "id": "91183c00",
   "metadata": {},
   "outputs": [],
   "source": []
  },
  {
   "cell_type": "code",
   "execution_count": null,
   "id": "c912600a",
   "metadata": {},
   "outputs": [],
   "source": []
  }
 ],
 "metadata": {
  "kernelspec": {
   "display_name": "Python 3 (ipykernel)",
   "language": "python",
   "name": "python3"
  },
  "language_info": {
   "codemirror_mode": {
    "name": "ipython",
    "version": 3
   },
   "file_extension": ".py",
   "mimetype": "text/x-python",
   "name": "python",
   "nbconvert_exporter": "python",
   "pygments_lexer": "ipython3",
   "version": "3.9.5"
  }
 },
 "nbformat": 4,
 "nbformat_minor": 5
}
