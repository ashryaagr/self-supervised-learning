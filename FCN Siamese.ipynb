{
 "cells": [
  {
   "cell_type": "code",
   "execution_count": 1,
   "id": "1ff83b78",
   "metadata": {},
   "outputs": [],
   "source": [
    "import torch\n",
    "import torch.nn as nn\n",
    "import torch.optim as optim\n",
    "import torchvision.transforms as transforms\n",
    "from torch.utils.data import DataLoader\n",
    "from torchvision.datasets import ImageFolder\n",
    "from torchvision.datasets import CIFAR10"
   ]
  },
  {
   "cell_type": "code",
   "execution_count": 2,
   "id": "7b57933e",
   "metadata": {},
   "outputs": [],
   "source": [
    "# Define the training loop\n",
    "def train(model, train_loader, criterion, optimizer):\n",
    "    model.train()\n",
    "    \n",
    "    for batch_idx, (lr_images, hr_images) in enumerate(train_loader):\n",
    "        lr_images = lr_images.to(device)\n",
    "        hr_images = hr_images.to(device)\n",
    "        \n",
    "        optimizer.zero_grad()\n",
    "        \n",
    "        # Generate super-resolved images using the model\n",
    "        sr_images, _ = model(lr_images, lr_images)\n",
    "        \n",
    "        # Resize super-resolved and high-resolution images to the same size\n",
    "#         print(lr_images.size(), hr_images.size(), sr_images.size())\n",
    "        sr_images = nn.functional.interpolate(sr_images, size=hr_images.size()[2:], mode='bilinear', align_corners=False)\n",
    "        \n",
    "        # Compute the loss between super-resolved images and ground truth high-resolution images\n",
    "        loss = criterion(sr_images, hr_images)\n",
    "        \n",
    "        loss.backward()\n",
    "        optimizer.step()\n",
    "        \n",
    "        if batch_idx % 100 == 0:\n",
    "            print(f\"Batch {batch_idx}/{len(train_loader)}, Loss: {loss.item():.4f}\")\n"
   ]
  },
  {
   "cell_type": "code",
   "execution_count": 3,
   "id": "89c1ff18",
   "metadata": {},
   "outputs": [],
   "source": [
    "# Define the FCN-Siamese model\n",
    "class FCNSiamese(nn.Module):\n",
    "    def __init__(self):\n",
    "        super(FCNSiamese, self).__init__()\n",
    "        # Define our FCN layers\n",
    "        self.fcn = nn.Sequential(\n",
    "            nn.Conv2d(3, 3, kernel_size=3),\n",
    "            nn.ReLU(inplace=True),\n",
    "            # Add more convolutional layers or any other desired layers\n",
    "        )\n",
    "        \n",
    "    def forward(self, x1, x2):\n",
    "        # Implement the forward pass of the FCN-Siamese model\n",
    "        output1 = self.fcn(x1)\n",
    "        output2 = self.fcn(x2)\n",
    "        return output1, output2\n",
    "    \n",
    "# Low image, Low Image -> super-resolution image, _. Where loss = compare(superresolution, ground-truth high resolution)\n",
    "# Better way: Low Image -> super-resolution image. loss = compare(superresolution, ground-truth high resolution)\n",
    "#\n",
    "# Positive pair: original vs Low res-interpolaton + augmentation ... Grayscale because color is easily learnable\n",
    "# Negative pair: original image vs random image \n",
    "# Note: This is a metric learning task. Not a binary classification task\n",
    "# \n",
    "# "
   ]
  },
  {
   "cell_type": "code",
   "execution_count": 4,
   "id": "ea05867a",
   "metadata": {},
   "outputs": [],
   "source": [
    "# Set device\n",
    "device = torch.device(\"cuda\" if torch.cuda.is_available() else \"cpu\")\n",
    "\n",
    "# Initialize the FCN-Siamese model\n",
    "model = FCNSiamese().to(device)\n",
    "\n",
    "# Define loss function\n",
    "criterion = nn.MSELoss()\n",
    "\n",
    "# Define optimizer\n",
    "optimizer = optim.Adam(model.parameters(), lr=0.001)"
   ]
  },
  {
   "cell_type": "code",
   "execution_count": 5,
   "id": "674559eb",
   "metadata": {},
   "outputs": [
    {
     "name": "stdout",
     "output_type": "stream",
     "text": [
      "Files already downloaded and verified\n"
     ]
    }
   ],
   "source": [
    "# Define transforms and load the CIFAR-10 dataset\n",
    "import torchvision.transforms.functional as TF\n",
    "\n",
    "# Define transforms and load the CIFAR-10 dataset\n",
    "transform_highres = transforms.Compose([\n",
    "    transforms.ToTensor(),\n",
    "    transforms.Normalize((0.5, 0.5, 0.5), (0.5, 0.5, 0.5))\n",
    "])\n",
    "\n",
    "transform_lowres = transforms.Compose([\n",
    "    transforms.ToTensor(),\n",
    "    transforms.Resize((32, 32)),\n",
    "    transforms.Normalize((0.5, 0.5, 0.5), (0.5, 0.5, 0.5))\n",
    "])\n",
    "\n",
    "dataset = CIFAR10(root='dataset/', train=True, download=True)\n",
    "\n",
    "# Create dataset where for each index, we have 2 images: one high-resolution and one low-resolution\n",
    "paired_dataset = []\n",
    "for data in dataset:\n",
    "    image_highres = transform_highres(data[0])\n",
    "    image_lowres = transform_lowres(data[0])\n",
    "    paired_data = (image_lowres, image_highres)\n",
    "    paired_dataset.append(paired_data)\n",
    "\n",
    "# Create a DataLoader for the paired dataset\n",
    "train_loader = DataLoader(paired_dataset, batch_size=64, shuffle=True, num_workers=4)"
   ]
  },
  {
   "cell_type": "code",
   "execution_count": 24,
   "id": "020360d8",
   "metadata": {},
   "outputs": [
    {
     "name": "stdout",
     "output_type": "stream",
     "text": [
      "Epoch 1/10\n",
      "Batch 0/782, Loss: 0.2287\n",
      "Batch 100/782, Loss: 0.1583\n",
      "Batch 200/782, Loss: 0.1480\n",
      "Batch 300/782, Loss: 0.1491\n",
      "Batch 400/782, Loss: 0.1558\n",
      "Batch 500/782, Loss: 0.1690\n",
      "Batch 600/782, Loss: 0.1751\n",
      "Batch 700/782, Loss: 0.1475\n",
      "Epoch 2/10\n",
      "Batch 0/782, Loss: 0.1508\n",
      "Batch 100/782, Loss: 0.1318\n",
      "Batch 200/782, Loss: 0.1522\n",
      "Batch 300/782, Loss: 0.1536\n",
      "Batch 400/782, Loss: 0.1594\n",
      "Batch 500/782, Loss: 0.1388\n",
      "Batch 600/782, Loss: 0.1475\n",
      "Batch 700/782, Loss: 0.1462\n",
      "Epoch 3/10\n",
      "Batch 0/782, Loss: 0.1372\n",
      "Batch 100/782, Loss: 0.1551\n",
      "Batch 200/782, Loss: 0.1421\n",
      "Batch 300/782, Loss: 0.1540\n",
      "Batch 400/782, Loss: 0.1188\n",
      "Batch 500/782, Loss: 0.1440\n",
      "Batch 600/782, Loss: 0.1663\n",
      "Batch 700/782, Loss: 0.1441\n",
      "Epoch 4/10\n",
      "Batch 0/782, Loss: 0.1748\n",
      "Batch 100/782, Loss: 0.1509\n",
      "Batch 200/782, Loss: 0.1554\n",
      "Batch 300/782, Loss: 0.1434\n",
      "Batch 400/782, Loss: 0.1547\n",
      "Batch 500/782, Loss: 0.1498\n",
      "Batch 600/782, Loss: 0.1332\n",
      "Batch 700/782, Loss: 0.1492\n",
      "Epoch 5/10\n",
      "Batch 0/782, Loss: 0.1601\n",
      "Batch 100/782, Loss: 0.1354\n",
      "Batch 200/782, Loss: 0.1597\n",
      "Batch 300/782, Loss: 0.1828\n",
      "Batch 400/782, Loss: 0.1596\n",
      "Batch 500/782, Loss: 0.1486\n",
      "Batch 600/782, Loss: 0.1621\n",
      "Batch 700/782, Loss: 0.1482\n",
      "Epoch 6/10\n",
      "Batch 0/782, Loss: 0.1360\n",
      "Batch 100/782, Loss: 0.1684\n",
      "Batch 200/782, Loss: 0.1653\n",
      "Batch 300/782, Loss: 0.1572\n",
      "Batch 400/782, Loss: 0.1520\n",
      "Batch 500/782, Loss: 0.1388\n",
      "Batch 600/782, Loss: 0.1484\n",
      "Batch 700/782, Loss: 0.1470\n",
      "Epoch 7/10\n",
      "Batch 0/782, Loss: 0.1371\n",
      "Batch 100/782, Loss: 0.1562\n",
      "Batch 200/782, Loss: 0.1561\n",
      "Batch 300/782, Loss: 0.1443\n",
      "Batch 400/782, Loss: 0.1474\n",
      "Batch 500/782, Loss: 0.1763\n",
      "Batch 600/782, Loss: 0.1270\n",
      "Batch 700/782, Loss: 0.1314\n",
      "Epoch 8/10\n",
      "Batch 0/782, Loss: 0.1641\n",
      "Batch 100/782, Loss: 0.1565\n",
      "Batch 200/782, Loss: 0.1345\n",
      "Batch 300/782, Loss: 0.1260\n",
      "Batch 400/782, Loss: 0.1317\n",
      "Batch 500/782, Loss: 0.1819\n",
      "Batch 600/782, Loss: 0.1683\n",
      "Batch 700/782, Loss: 0.1552\n",
      "Epoch 9/10\n",
      "Batch 0/782, Loss: 0.1526\n",
      "Batch 100/782, Loss: 0.1271\n",
      "Batch 200/782, Loss: 0.1566\n",
      "Batch 300/782, Loss: 0.1485\n",
      "Batch 400/782, Loss: 0.1418\n",
      "Batch 500/782, Loss: 0.1322\n",
      "Batch 600/782, Loss: 0.1503\n",
      "Batch 700/782, Loss: 0.1428\n",
      "Epoch 10/10\n",
      "Batch 0/782, Loss: 0.1658\n",
      "Batch 100/782, Loss: 0.1703\n",
      "Batch 200/782, Loss: 0.1449\n",
      "Batch 300/782, Loss: 0.1636\n",
      "Batch 400/782, Loss: 0.1408\n",
      "Batch 500/782, Loss: 0.1349\n",
      "Batch 600/782, Loss: 0.1651\n",
      "Batch 700/782, Loss: 0.1731\n"
     ]
    }
   ],
   "source": [
    "# Training loop\n",
    "num_epochs = 10\n",
    "for epoch in range(num_epochs):\n",
    "    print(f\"Epoch {epoch+1}/{num_epochs}\")\n",
    "    train(model, train_loader, criterion, optimizer)"
   ]
  },
  {
   "cell_type": "markdown",
   "id": "e59caeee",
   "metadata": {},
   "source": [
    "## Utility/Visualization"
   ]
  },
  {
   "cell_type": "code",
   "execution_count": 10,
   "id": "2d5fd919",
   "metadata": {},
   "outputs": [
    {
     "data": {
      "image/png": "[encoded data removed]",
      "text/plain": [
       "<Figure size 432x288 with 1 Axes>"
      ]
     },
     "metadata": {
      "needs_background": "light"
     },
     "output_type": "display_data"
    }
   ],
   "source": [
    "import matplotlib.pyplot as plt\n",
    "import numpy as np\n",
    "\n",
    "# Assuming data is a tuple (image, label)\n",
    "image = data[0]\n",
    "\n",
    "# Convert the tensor image to NumPy array and transpose the dimensions\n",
    "image = image.numpy().transpose((1, 2, 0))\n",
    "\n",
    "# Denormalize the image (if it was normalized during transformation)\n",
    "mean = (0.5, 0.5, 0.5)  # Mean used for normalization\n",
    "std = (0.5, 0.5, 0.5)  # Standard deviation used for normalization\n",
    "image = image * std + mean\n",
    "\n",
    "# Clip the pixel values to [0, 1] range in case of any numerical instability\n",
    "image = np.clip(image, 0, 1)\n",
    "\n",
    "# Plot the image\n",
    "plt.imshow(image)\n",
    "plt.axis('off')\n",
    "plt.show()"
   ]
  },
  {
   "cell_type": "code",
   "execution_count": null,
   "id": "5ab54b47",
   "metadata": {},
   "outputs": [],
   "source": []
  }
 ],
 "metadata": {
  "kernelspec": {
   "display_name": "Python 3 (clean)",
   "language": "python",
   "name": "python3_clean"
  },
  "language_info": {
   "codemirror_mode": {
    "name": "ipython",
    "version": 3
   },
   "file_extension": ".py",
   "mimetype": "text/x-python",
   "name": "python",
   "nbconvert_exporter": "python",
   "pygments_lexer": "ipython3",
   "version": "3.9.5"
  }
 },
 "nbformat": 4,
 "nbformat_minor": 5
}
