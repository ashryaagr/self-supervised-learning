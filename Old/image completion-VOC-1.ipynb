{
 "cells": [
  {
   "cell_type": "code",
   "execution_count": 3,
   "id": "0bdff22c",
   "metadata": {},
   "outputs": [
    {
     "name": "stdout",
     "output_type": "stream",
     "text": [
      "Downloading http://host.robots.ox.ac.uk/pascal/VOC/voc2012/VOCtrainval_11-May-2012.tar to ../../data/VOCtrainval_11-May-2012.tar\n"
     ]
    },
    {
     "name": "stderr",
     "output_type": "stream",
     "text": [
      "100.0%\n"
     ]
    },
    {
     "name": "stdout",
     "output_type": "stream",
     "text": [
      "Extracting ../../data/VOCtrainval_11-May-2012.tar to ../../data\n"
     ]
    },
    {
     "ename": "OSError",
     "evalue": "[Errno 122] Disk quota exceeded: '../../data/VOCdevkit/VOC2012/JPEGImages/2012_001405.jpg'",
     "output_type": "error",
     "traceback": [
      "\u001b[0;31m---------------------------------------------------------------------------\u001b[0m",
      "\u001b[0;31mOSError\u001b[0m                                   Traceback (most recent call last)",
      "Cell \u001b[0;32mIn[3], line 31\u001b[0m\n\u001b[1;32m     29\u001b[0m download \u001b[38;5;241m=\u001b[39m \u001b[38;5;28;01mTrue\u001b[39;00m\n\u001b[1;32m     30\u001b[0m \u001b[38;5;66;03m# Define the training and test datasets\u001b[39;00m\n\u001b[0;32m---> 31\u001b[0m train_dataset \u001b[38;5;241m=\u001b[39m \u001b[43mdatasets\u001b[49m\u001b[38;5;241;43m.\u001b[39;49m\u001b[43mVOCDetection\u001b[49m\u001b[43m(\u001b[49m\u001b[43mroot\u001b[49m\u001b[38;5;241;43m=\u001b[39;49m\u001b[38;5;124;43m'\u001b[39;49m\u001b[38;5;124;43m../../data\u001b[39;49m\u001b[38;5;124;43m'\u001b[39;49m\u001b[43m,\u001b[49m\u001b[43m \u001b[49m\u001b[43mimage_set\u001b[49m\u001b[38;5;241;43m=\u001b[39;49m\u001b[38;5;124;43m\"\u001b[39;49m\u001b[38;5;124;43mtrain\u001b[39;49m\u001b[38;5;124;43m\"\u001b[39;49m\u001b[43m,\u001b[49m\u001b[43m \u001b[49m\u001b[43mdownload\u001b[49m\u001b[38;5;241;43m=\u001b[39;49m\u001b[43mdownload\u001b[49m\u001b[43m,\u001b[49m\u001b[43m \u001b[49m\u001b[43mtransform\u001b[49m\u001b[38;5;241;43m=\u001b[39;49m\u001b[43mdata_transforms\u001b[49m\u001b[43m)\u001b[49m\n\u001b[1;32m     33\u001b[0m \u001b[38;5;66;03m# Define the dataloaders to load the data in batches during training and testing\u001b[39;00m\n\u001b[1;32m     34\u001b[0m batch_size \u001b[38;5;241m=\u001b[39m \u001b[38;5;241m64\u001b[39m\n",
      "File \u001b[0;32m~/private/.env/lib/python3.9/site-packages/torchvision/datasets/voc.py:98\u001b[0m, in \u001b[0;36m_VOCBase.__init__\u001b[0;34m(self, root, year, image_set, download, transform, target_transform, transforms)\u001b[0m\n\u001b[1;32m     95\u001b[0m voc_root \u001b[38;5;241m=\u001b[39m os\u001b[38;5;241m.\u001b[39mpath\u001b[38;5;241m.\u001b[39mjoin(\u001b[38;5;28mself\u001b[39m\u001b[38;5;241m.\u001b[39mroot, base_dir)\n\u001b[1;32m     97\u001b[0m \u001b[38;5;28;01mif\u001b[39;00m download:\n\u001b[0;32m---> 98\u001b[0m     \u001b[43mdownload_and_extract_archive\u001b[49m\u001b[43m(\u001b[49m\u001b[38;5;28;43mself\u001b[39;49m\u001b[38;5;241;43m.\u001b[39;49m\u001b[43murl\u001b[49m\u001b[43m,\u001b[49m\u001b[43m \u001b[49m\u001b[38;5;28;43mself\u001b[39;49m\u001b[38;5;241;43m.\u001b[39;49m\u001b[43mroot\u001b[49m\u001b[43m,\u001b[49m\u001b[43m \u001b[49m\u001b[43mfilename\u001b[49m\u001b[38;5;241;43m=\u001b[39;49m\u001b[38;5;28;43mself\u001b[39;49m\u001b[38;5;241;43m.\u001b[39;49m\u001b[43mfilename\u001b[49m\u001b[43m,\u001b[49m\u001b[43m \u001b[49m\u001b[43mmd5\u001b[49m\u001b[38;5;241;43m=\u001b[39;49m\u001b[38;5;28;43mself\u001b[39;49m\u001b[38;5;241;43m.\u001b[39;49m\u001b[43mmd5\u001b[49m\u001b[43m)\u001b[49m\n\u001b[1;32m    100\u001b[0m \u001b[38;5;28;01mif\u001b[39;00m \u001b[38;5;129;01mnot\u001b[39;00m os\u001b[38;5;241m.\u001b[39mpath\u001b[38;5;241m.\u001b[39misdir(voc_root):\n\u001b[1;32m    101\u001b[0m     \u001b[38;5;28;01mraise\u001b[39;00m \u001b[38;5;167;01mRuntimeError\u001b[39;00m(\u001b[38;5;124m\"\u001b[39m\u001b[38;5;124mDataset not found or corrupted. You can use download=True to download it\u001b[39m\u001b[38;5;124m\"\u001b[39m)\n",
      "File \u001b[0;32m~/private/.env/lib/python3.9/site-packages/torchvision/datasets/utils.py:438\u001b[0m, in \u001b[0;36mdownload_and_extract_archive\u001b[0;34m(url, download_root, extract_root, filename, md5, remove_finished)\u001b[0m\n\u001b[1;32m    436\u001b[0m archive \u001b[38;5;241m=\u001b[39m os\u001b[38;5;241m.\u001b[39mpath\u001b[38;5;241m.\u001b[39mjoin(download_root, filename)\n\u001b[1;32m    437\u001b[0m \u001b[38;5;28mprint\u001b[39m(\u001b[38;5;124mf\u001b[39m\u001b[38;5;124m\"\u001b[39m\u001b[38;5;124mExtracting \u001b[39m\u001b[38;5;132;01m{\u001b[39;00marchive\u001b[38;5;132;01m}\u001b[39;00m\u001b[38;5;124m to \u001b[39m\u001b[38;5;132;01m{\u001b[39;00mextract_root\u001b[38;5;132;01m}\u001b[39;00m\u001b[38;5;124m\"\u001b[39m)\n\u001b[0;32m--> 438\u001b[0m \u001b[43mextract_archive\u001b[49m\u001b[43m(\u001b[49m\u001b[43marchive\u001b[49m\u001b[43m,\u001b[49m\u001b[43m \u001b[49m\u001b[43mextract_root\u001b[49m\u001b[43m,\u001b[49m\u001b[43m \u001b[49m\u001b[43mremove_finished\u001b[49m\u001b[43m)\u001b[49m\n",
      "File \u001b[0;32m~/private/.env/lib/python3.9/site-packages/torchvision/datasets/utils.py:413\u001b[0m, in \u001b[0;36mextract_archive\u001b[0;34m(from_path, to_path, remove_finished)\u001b[0m\n\u001b[1;32m    410\u001b[0m \u001b[38;5;66;03m# We don't need to check for a missing key here, since this was already done in _detect_file_type()\u001b[39;00m\n\u001b[1;32m    411\u001b[0m extractor \u001b[38;5;241m=\u001b[39m _ARCHIVE_EXTRACTORS[archive_type]\n\u001b[0;32m--> 413\u001b[0m \u001b[43mextractor\u001b[49m\u001b[43m(\u001b[49m\u001b[43mfrom_path\u001b[49m\u001b[43m,\u001b[49m\u001b[43m \u001b[49m\u001b[43mto_path\u001b[49m\u001b[43m,\u001b[49m\u001b[43m \u001b[49m\u001b[43mcompression\u001b[49m\u001b[43m)\u001b[49m\n\u001b[1;32m    414\u001b[0m \u001b[38;5;28;01mif\u001b[39;00m remove_finished:\n\u001b[1;32m    415\u001b[0m     os\u001b[38;5;241m.\u001b[39mremove(from_path)\n",
      "File \u001b[0;32m~/private/.env/lib/python3.9/site-packages/torchvision/datasets/utils.py:277\u001b[0m, in \u001b[0;36m_extract_tar\u001b[0;34m(from_path, to_path, compression)\u001b[0m\n\u001b[1;32m    275\u001b[0m \u001b[38;5;28;01mdef\u001b[39;00m \u001b[38;5;21m_extract_tar\u001b[39m(from_path: \u001b[38;5;28mstr\u001b[39m, to_path: \u001b[38;5;28mstr\u001b[39m, compression: Optional[\u001b[38;5;28mstr\u001b[39m]) \u001b[38;5;241m-\u001b[39m\u001b[38;5;241m>\u001b[39m \u001b[38;5;28;01mNone\u001b[39;00m:\n\u001b[1;32m    276\u001b[0m     \u001b[38;5;28;01mwith\u001b[39;00m tarfile\u001b[38;5;241m.\u001b[39mopen(from_path, \u001b[38;5;124mf\u001b[39m\u001b[38;5;124m\"\u001b[39m\u001b[38;5;124mr:\u001b[39m\u001b[38;5;132;01m{\u001b[39;00mcompression[\u001b[38;5;241m1\u001b[39m:]\u001b[38;5;132;01m}\u001b[39;00m\u001b[38;5;124m\"\u001b[39m \u001b[38;5;28;01mif\u001b[39;00m compression \u001b[38;5;28;01melse\u001b[39;00m \u001b[38;5;124m\"\u001b[39m\u001b[38;5;124mr\u001b[39m\u001b[38;5;124m\"\u001b[39m) \u001b[38;5;28;01mas\u001b[39;00m tar:\n\u001b[0;32m--> 277\u001b[0m         \u001b[43mtar\u001b[49m\u001b[38;5;241;43m.\u001b[39;49m\u001b[43mextractall\u001b[49m\u001b[43m(\u001b[49m\u001b[43mto_path\u001b[49m\u001b[43m)\u001b[49m\n",
      "File \u001b[0;32m/opt/conda/lib/python3.9/tarfile.py:2036\u001b[0m, in \u001b[0;36mTarFile.extractall\u001b[0;34m(self, path, members, numeric_owner)\u001b[0m\n\u001b[1;32m   2034\u001b[0m         tarinfo\u001b[38;5;241m.\u001b[39mmode \u001b[38;5;241m=\u001b[39m \u001b[38;5;241m0o700\u001b[39m\n\u001b[1;32m   2035\u001b[0m     \u001b[38;5;66;03m# Do not set_attrs directories, as we will do that further down\u001b[39;00m\n\u001b[0;32m-> 2036\u001b[0m     \u001b[38;5;28;43mself\u001b[39;49m\u001b[38;5;241;43m.\u001b[39;49m\u001b[43mextract\u001b[49m\u001b[43m(\u001b[49m\u001b[43mtarinfo\u001b[49m\u001b[43m,\u001b[49m\u001b[43m \u001b[49m\u001b[43mpath\u001b[49m\u001b[43m,\u001b[49m\u001b[43m \u001b[49m\u001b[43mset_attrs\u001b[49m\u001b[38;5;241;43m=\u001b[39;49m\u001b[38;5;129;43;01mnot\u001b[39;49;00m\u001b[43m \u001b[49m\u001b[43mtarinfo\u001b[49m\u001b[38;5;241;43m.\u001b[39;49m\u001b[43misdir\u001b[49m\u001b[43m(\u001b[49m\u001b[43m)\u001b[49m\u001b[43m,\u001b[49m\n\u001b[1;32m   2037\u001b[0m \u001b[43m                 \u001b[49m\u001b[43mnumeric_owner\u001b[49m\u001b[38;5;241;43m=\u001b[39;49m\u001b[43mnumeric_owner\u001b[49m\u001b[43m)\u001b[49m\n\u001b[1;32m   2039\u001b[0m \u001b[38;5;66;03m# Reverse sort directories.\u001b[39;00m\n\u001b[1;32m   2040\u001b[0m directories\u001b[38;5;241m.\u001b[39msort(key\u001b[38;5;241m=\u001b[39m\u001b[38;5;28;01mlambda\u001b[39;00m a: a\u001b[38;5;241m.\u001b[39mname)\n",
      "File \u001b[0;32m/opt/conda/lib/python3.9/tarfile.py:2077\u001b[0m, in \u001b[0;36mTarFile.extract\u001b[0;34m(self, member, path, set_attrs, numeric_owner)\u001b[0m\n\u001b[1;32m   2074\u001b[0m     tarinfo\u001b[38;5;241m.\u001b[39m_link_target \u001b[38;5;241m=\u001b[39m os\u001b[38;5;241m.\u001b[39mpath\u001b[38;5;241m.\u001b[39mjoin(path, tarinfo\u001b[38;5;241m.\u001b[39mlinkname)\n\u001b[1;32m   2076\u001b[0m \u001b[38;5;28;01mtry\u001b[39;00m:\n\u001b[0;32m-> 2077\u001b[0m     \u001b[38;5;28;43mself\u001b[39;49m\u001b[38;5;241;43m.\u001b[39;49m\u001b[43m_extract_member\u001b[49m\u001b[43m(\u001b[49m\u001b[43mtarinfo\u001b[49m\u001b[43m,\u001b[49m\u001b[43m \u001b[49m\u001b[43mos\u001b[49m\u001b[38;5;241;43m.\u001b[39;49m\u001b[43mpath\u001b[49m\u001b[38;5;241;43m.\u001b[39;49m\u001b[43mjoin\u001b[49m\u001b[43m(\u001b[49m\u001b[43mpath\u001b[49m\u001b[43m,\u001b[49m\u001b[43m \u001b[49m\u001b[43mtarinfo\u001b[49m\u001b[38;5;241;43m.\u001b[39;49m\u001b[43mname\u001b[49m\u001b[43m)\u001b[49m\u001b[43m,\u001b[49m\n\u001b[1;32m   2078\u001b[0m \u001b[43m                         \u001b[49m\u001b[43mset_attrs\u001b[49m\u001b[38;5;241;43m=\u001b[39;49m\u001b[43mset_attrs\u001b[49m\u001b[43m,\u001b[49m\n\u001b[1;32m   2079\u001b[0m \u001b[43m                         \u001b[49m\u001b[43mnumeric_owner\u001b[49m\u001b[38;5;241;43m=\u001b[39;49m\u001b[43mnumeric_owner\u001b[49m\u001b[43m)\u001b[49m\n\u001b[1;32m   2080\u001b[0m \u001b[38;5;28;01mexcept\u001b[39;00m \u001b[38;5;167;01mOSError\u001b[39;00m \u001b[38;5;28;01mas\u001b[39;00m e:\n\u001b[1;32m   2081\u001b[0m     \u001b[38;5;28;01mif\u001b[39;00m \u001b[38;5;28mself\u001b[39m\u001b[38;5;241m.\u001b[39merrorlevel \u001b[38;5;241m>\u001b[39m \u001b[38;5;241m0\u001b[39m:\n",
      "File \u001b[0;32m/opt/conda/lib/python3.9/tarfile.py:2150\u001b[0m, in \u001b[0;36mTarFile._extract_member\u001b[0;34m(self, tarinfo, targetpath, set_attrs, numeric_owner)\u001b[0m\n\u001b[1;32m   2147\u001b[0m     \u001b[38;5;28mself\u001b[39m\u001b[38;5;241m.\u001b[39m_dbg(\u001b[38;5;241m1\u001b[39m, tarinfo\u001b[38;5;241m.\u001b[39mname)\n\u001b[1;32m   2149\u001b[0m \u001b[38;5;28;01mif\u001b[39;00m tarinfo\u001b[38;5;241m.\u001b[39misreg():\n\u001b[0;32m-> 2150\u001b[0m     \u001b[38;5;28;43mself\u001b[39;49m\u001b[38;5;241;43m.\u001b[39;49m\u001b[43mmakefile\u001b[49m\u001b[43m(\u001b[49m\u001b[43mtarinfo\u001b[49m\u001b[43m,\u001b[49m\u001b[43m \u001b[49m\u001b[43mtargetpath\u001b[49m\u001b[43m)\u001b[49m\n\u001b[1;32m   2151\u001b[0m \u001b[38;5;28;01melif\u001b[39;00m tarinfo\u001b[38;5;241m.\u001b[39misdir():\n\u001b[1;32m   2152\u001b[0m     \u001b[38;5;28mself\u001b[39m\u001b[38;5;241m.\u001b[39mmakedir(tarinfo, targetpath)\n",
      "File \u001b[0;32m/opt/conda/lib/python3.9/tarfile.py:2191\u001b[0m, in \u001b[0;36mTarFile.makefile\u001b[0;34m(self, tarinfo, targetpath)\u001b[0m\n\u001b[1;32m   2189\u001b[0m source\u001b[38;5;241m.\u001b[39mseek(tarinfo\u001b[38;5;241m.\u001b[39moffset_data)\n\u001b[1;32m   2190\u001b[0m bufsize \u001b[38;5;241m=\u001b[39m \u001b[38;5;28mself\u001b[39m\u001b[38;5;241m.\u001b[39mcopybufsize\n\u001b[0;32m-> 2191\u001b[0m \u001b[38;5;28;01mwith\u001b[39;00m \u001b[43mbltn_open\u001b[49m\u001b[43m(\u001b[49m\u001b[43mtargetpath\u001b[49m\u001b[43m,\u001b[49m\u001b[43m \u001b[49m\u001b[38;5;124;43m\"\u001b[39;49m\u001b[38;5;124;43mwb\u001b[39;49m\u001b[38;5;124;43m\"\u001b[39;49m\u001b[43m)\u001b[49m \u001b[38;5;28;01mas\u001b[39;00m target:\n\u001b[1;32m   2192\u001b[0m     \u001b[38;5;28;01mif\u001b[39;00m tarinfo\u001b[38;5;241m.\u001b[39msparse \u001b[38;5;129;01mis\u001b[39;00m \u001b[38;5;129;01mnot\u001b[39;00m \u001b[38;5;28;01mNone\u001b[39;00m:\n\u001b[1;32m   2193\u001b[0m         \u001b[38;5;28;01mfor\u001b[39;00m offset, size \u001b[38;5;129;01min\u001b[39;00m tarinfo\u001b[38;5;241m.\u001b[39msparse:\n",
      "\u001b[0;31mOSError\u001b[0m: [Errno 122] Disk quota exceeded: '../../data/VOCdevkit/VOC2012/JPEGImages/2012_001405.jpg'"
     ]
    }
   ],
   "source": [
    "import torch\n",
    "import torch.nn as nn\n",
    "import torch.optim as optim\n",
    "from torchvision import transforms, datasets\n",
    "from torchvision.transforms import GaussianBlur, ToTensor, ToPILImage, RandomCrop, Compose, Resize, Normalize\n",
    "from torchvision.datasets import CIFAR10, Flickr8k, CelebA\n",
    "from torch.utils.data import DataLoader\n",
    "\n",
    "# Set device\n",
    "device = torch.device(\"cuda\" if torch.cuda.is_available() else \"cpu\")\n",
    "\n",
    "# Set hyperparameters\n",
    "num_epochs = 10\n",
    "batch_size = 32\n",
    "learning_rate = 0.001\n",
    "image_size = 28\n",
    "\n",
    "# Gaussian Pyramid Constants\n",
    "num_scales = 3\n",
    "scale_factor = 2\n",
    "\n",
    "# Define the transformations to apply to the CIFAR-10 data\n",
    "data_transforms = transforms.Compose([\n",
    "    transforms.Resize((128, 128)),\n",
    "    transforms.ToTensor(),\n",
    "    transforms.Normalize(mean=[0.485, 0.456, 0.406], std=[0.229, 0.224, 0.225])\n",
    "])\n",
    "\n",
    "download = True\n",
    "# Define the training and test datasets\n",
    "train_dataset = datasets.VOCDetection(root='../../data', image_set=\"train\", download=download, transform=data_transforms)\n",
    "\n",
    "# Define the dataloaders to load the data in batches during training and testing\n",
    "batch_size = 64\n",
    "\n",
    "train_loader = torch.utils.data.DataLoader(train_dataset, batch_size=batch_size, shuffle=True, num_workers=2)\n",
    "dataloader = train_loader"
   ]
  },
  {
   "cell_type": "code",
   "execution_count": 4,
   "id": "c309c6ed",
   "metadata": {},
   "outputs": [
    {
     "name": "stdout",
     "output_type": "stream",
     "text": [
      "The history saving thread hit an unexpected error (OperationalError('unable to open database file')).History will not be written to the database.\n"
     ]
    }
   ],
   "source": [
    "!rm -rf ../../data"
   ]
  },
  {
   "cell_type": "code",
   "execution_count": 2,
   "id": "b9b44ed6",
   "metadata": {},
   "outputs": [],
   "source": [
    "# Define the network architecture with feature pyramid\n",
    "class CompletionModel(nn.Module):\n",
    "    def __init__(self, num_scales=3):\n",
    "        super(CompletionModel, self).__init__()\n",
    "        self.num_scales = num_scales\n",
    "\n",
    "        # Define layers for each scale in the feature pyramid\n",
    "        self.encoders = nn.ModuleList()\n",
    "        self.decoders = nn.ModuleList()\n",
    "        self.channel_reducers = nn.ModuleList()  # 1x1 convolution layers to reduce channels\n",
    "#         self.downsamplers = nn.ModuleList()\n",
    "#         self.upsamplers = nn.ModuleList()\n",
    "        \n",
    "        for i in range(num_scales):\n",
    "            encoder = nn.Sequential(\n",
    "                nn.Conv2d(3, 64, kernel_size=3, stride=1, padding=1),\n",
    "                nn.ReLU(),\n",
    "                nn.Conv2d(64, 128, kernel_size=3, stride=1, padding=1),\n",
    "                nn.ReLU(),\n",
    "                nn.Conv2d(128, 256, kernel_size=3, stride=1, padding=1),\n",
    "                nn.ReLU()\n",
    "            )\n",
    "            self.encoders.append(encoder)\n",
    "\n",
    "            decoder = nn.Sequential(\n",
    "                nn.Conv2d(256, 128, kernel_size=3, stride=1, padding=1),\n",
    "                nn.ReLU(),\n",
    "                nn.Conv2d(128, 64, kernel_size=3, stride=1, padding=1),\n",
    "                nn.ReLU(),\n",
    "                nn.Conv2d(64, 3, kernel_size=3, stride=1, padding=1),\n",
    "                nn.Tanh()\n",
    "            )\n",
    "            self.decoders.append(decoder)\n",
    "            \n",
    "            channel_reducer = nn.Conv2d(3, 256, kernel_size=1)  # 1x1 convolution layer to reduce channels\n",
    "            self.channel_reducers.append(channel_reducer)\n",
    "            \n",
    "            \n",
    "        self.downsampler = nn.Upsample(scale_factor=1/scale_factor, mode='bilinear', align_corners=False)\n",
    "        #self.downsamplers.append(downsampler)\n",
    "            \n",
    "        self.upsampler = nn.Upsample(scale_factor=scale_factor, mode='bilinear', align_corners=False)\n",
    "        #self.upsamplers.append(upsampler)\n",
    "\n",
    "    def forward(self, x):\n",
    "        # Initialize list to store features from each scale\n",
    "        features = []\n",
    "\n",
    "        # Forward pass through each scale in the feature pyramid\n",
    "        for i in range(self.num_scales):\n",
    "            encoder_output = self.encoders[i](x)\n",
    "            features.append(encoder_output)\n",
    "            #downsample = nn.Upsample(scale_factor=1/scale_factor**i, mode='bilinear', align_corners=False)\n",
    "            x = self.downsampler(x)\n",
    "            #x = nn.functional.max_pool2d(encoder_output, kernel_size=2, stride=2)\n",
    "\n",
    "#         # Concatenate features from all scales\n",
    "#         concatenated_features = torch.cat(features, dim=1)\n",
    "\n",
    "        # Decode the concatenated features\n",
    "        shape_feats = list(features[-1].shape)\n",
    "        shape_feats[1] = 3\n",
    "        prev_output = torch.zeros(shape_feats).to(device)\n",
    "        \n",
    "#         for f in features:\n",
    "#             print(f.shape)\n",
    "        \n",
    "        for i in range(self.num_scales):\n",
    "            prev_output = self.channel_reducers[i](prev_output)\n",
    "            #print(i, prev_output.shape, features[self.num_scales - i - 1].shape)\n",
    "            prev_output += features[self.num_scales - i - 1]#features[self.num_scales - i - 1]\n",
    "            decoder_output = self.decoders[i](prev_output)\n",
    "            #features.append(encoder_output)\n",
    "            #upsampler = nn.Upsample(scale_factor=scale_factor**i, mode='bilinear', align_corners=False)\n",
    "            if i+1< self.num_scales:\n",
    "                prev_output = self.upsampler(decoder_output)\n",
    "            #x = nn.functional.max_pool2d(encoder_output, kernel_size=2, stride=2)\n",
    "\n",
    "#         decoded = self.decoders[0](concatenated_features)\n",
    "        #print(decoder_output.shape)\n",
    "        return decoder_output\n"
   ]
  },
  {
   "cell_type": "code",
   "execution_count": 3,
   "id": "49707258",
   "metadata": {},
   "outputs": [],
   "source": [
    "# model = CompletionModel().to(device)\n",
    "\n",
    "# # Define the loss function\n",
    "# criterion = nn.MSELoss()\n",
    "\n",
    "# # Define the optimizer\n",
    "# optimizer = optim.Adam(model.parameters(), lr=learning_rate)\n"
   ]
  },
  {
   "cell_type": "code",
   "execution_count": 4,
   "id": "ee373d83",
   "metadata": {},
   "outputs": [
    {
     "name": "stderr",
     "output_type": "stream",
     "text": [
      "Traceback (most recent call last):\n",
      "  File \"/opt/conda/lib/python3.9/multiprocessing/queues.py\", line 251, in _feed\n",
      "    send_bytes(obj)\n",
      "  File \"/opt/conda/lib/python3.9/multiprocessing/connection.py\", line 205, in send_bytes\n",
      "    self._send_bytes(m[offset:offset + size])\n",
      "  File \"/opt/conda/lib/python3.9/multiprocessing/connection.py\", line 416, in _send_bytes\n",
      "    self._send(header + buf)\n",
      "  File \"/opt/conda/lib/python3.9/multiprocessing/connection.py\", line 373, in _send\n",
      "    n = write(self._handle, buf)\n",
      "BrokenPipeError: [Errno 32] Broken pipe\n"
     ]
    },
    {
     "ename": "KeyboardInterrupt",
     "evalue": "",
     "output_type": "error",
     "traceback": [
      "\u001b[0;31m---------------------------------------------------------------------------\u001b[0m",
      "\u001b[0;31mKeyboardInterrupt\u001b[0m                         Traceback (most recent call last)",
      "Cell \u001b[0;32mIn[4], line 31\u001b[0m\n\u001b[1;32m     28\u001b[0m     loss\u001b[38;5;241m.\u001b[39mbackward()\n\u001b[1;32m     29\u001b[0m     optimizer\u001b[38;5;241m.\u001b[39mstep()\n\u001b[0;32m---> 31\u001b[0m     running_loss \u001b[38;5;241m+\u001b[39m\u001b[38;5;241m=\u001b[39m \u001b[43mloss\u001b[49m\u001b[38;5;241;43m.\u001b[39;49m\u001b[43mitem\u001b[49m\u001b[43m(\u001b[49m\u001b[43m)\u001b[49m\n\u001b[1;32m     33\u001b[0m \u001b[38;5;66;03m# Compute the average loss for the epoch\u001b[39;00m\n\u001b[1;32m     34\u001b[0m average_loss \u001b[38;5;241m=\u001b[39m running_loss \u001b[38;5;241m/\u001b[39m \u001b[38;5;28mlen\u001b[39m(dataloader)\n",
      "\u001b[0;31mKeyboardInterrupt\u001b[0m: "
     ]
    }
   ],
   "source": [
    "model = CompletionModel().to(device)\n",
    "\n",
    "# Define the loss function\n",
    "criterion = nn.MSELoss()\n",
    "\n",
    "# Define the optimizer\n",
    "optimizer = optim.Adam(model.parameters(), lr=learning_rate)\n",
    "\n",
    "# Training loop\n",
    "for epoch in range(num_epochs):\n",
    "    model.train()\n",
    "    running_loss = 0.0\n",
    "    \n",
    "    for images, _ in dataloader:\n",
    "        images = images.to(device)\n",
    "        \n",
    "        occluded_image = images.clone()\n",
    "        _, _, h, w = occluded_image.shape\n",
    "        x = torch.randint(0, w // 2, (1,))\n",
    "        y = torch.randint(0, h // 2, (1,))\n",
    "        occluded_image[:, :, y:y + h // 2, x:x + w // 2] = 0\n",
    "        # Forward pass and loss calculation\n",
    "        completion_images = model(occluded_image.to(device))\n",
    "        loss = criterion(completion_images, images)\n",
    "        \n",
    "        # Backward pass and optimization\n",
    "        optimizer.zero_grad()\n",
    "        loss.backward()\n",
    "        optimizer.step()\n",
    "        \n",
    "        running_loss += loss.item()\n",
    "    \n",
    "    # Compute the average loss for the epoch\n",
    "    average_loss = running_loss / len(dataloader)\n",
    "    \n",
    "    # Print progress\n",
    "    print(f\"Epoch [{epoch+1}/{num_epochs}], Loss: {average_loss:.4f}\")\n",
    "\n",
    "# Generate completions for test images\n",
    "model.eval()\n",
    "pass"
   ]
  },
  {
   "cell_type": "code",
   "execution_count": 5,
   "id": "83bae37f",
   "metadata": {},
   "outputs": [],
   "source": [
    "from IPython.display import display, HTML\n",
    "\n",
    "# # Define test transformations\n",
    "# test_transform = Compose([\n",
    "#     ToTensor()\n",
    "# ])\n",
    "test_dataset = datasets.Flowers102(root='../curriculum-learning/data', split=\"test\", download=download, transform=data_transforms)\n",
    "test_dataloader = torch.utils.data.DataLoader(test_dataset, batch_size=1, shuffle=False, num_workers=2)\n",
    "\n",
    "# Load CIFAR-10 test dataset\n",
    "# test_dataset = CIFAR10(root='./data', train=False, download=True, transform=test_transform)\n",
    "\n",
    "# # Create test data loader\n",
    "# test_dataloader = DataLoader(test_dataset, batch_size=1, shuffle=True)\n",
    "\n",
    "with torch.no_grad():\n",
    "    i = 0\n",
    "    for images, _ in test_dataloader:\n",
    "        images = images.to(device)\n",
    "        \n",
    "        occluded_image = images.clone()\n",
    "        _, _, h, w = occluded_image.shape\n",
    "        x = torch.randint(0, w // 2, (1,))\n",
    "        y = torch.randint(0, h // 2, (1,))\n",
    "        occluded_image[:, :, y:y + h // 2, x:x + w // 2] = 0\n",
    "        \n",
    "        ########\n",
    "        \n",
    "        # Generate completions using the model\n",
    "        completions = model(occluded_image.to(device))\n",
    "\n",
    "        # Convert tensors to PIL images for visualization\n",
    "        to_pil = ToPILImage()\n",
    "        original_img = to_pil(occluded_image.cpu().squeeze(0))\n",
    "        completed_img = to_pil(completions.cpu().squeeze(0))\n",
    "        \n",
    "        # Define the HTML style for larger images\n",
    "        html_style = \"<style>img { max-width: 100%; height: auto; }</style>\"\n",
    "        i+=1\n",
    "        if i==3:\n",
    "            break\n",
    "\n",
    "        # Display the original and completed images with larger size\n",
    "#         display(HTML(html_style))\n",
    "\n",
    "#         # Display the original and completed images\n",
    "#         display(original_img)\n",
    "#         display(completed_img)"
   ]
  },
  {
   "cell_type": "code",
   "execution_count": 8,
   "id": "7a7c603c",
   "metadata": {},
   "outputs": [
    {
     "data": {
      "image/png": "[encoded data removed]",
      "text/plain": [
       "<PIL.Image.Image image mode=RGB size=256x256>"
      ]
     },
     "execution_count": 8,
     "metadata": {},
     "output_type": "execute_result"
    }
   ],
   "source": [
    "from PIL import Image\n",
    "original_img.resize((original_img.width * 2,original_img.height * 2),\n",
    "                                                    Image.NEAREST)\n"
   ]
  },
  {
   "cell_type": "code",
   "execution_count": 9,
   "id": "75495678",
   "metadata": {},
   "outputs": [
    {
     "data": {
      "image/png": "[encoded data removed]",
      "text/plain": [
       "<PIL.Image.Image image mode=RGB size=256x256>"
      ]
     },
     "execution_count": 9,
     "metadata": {},
     "output_type": "execute_result"
    }
   ],
   "source": [
    "completed_img.resize((completed_img.width * 2,completed_img.height * 2),\n",
    "                                                    Image.NEAREST)"
   ]
  },
  {
   "cell_type": "markdown",
   "id": "42dca5b3",
   "metadata": {},
   "source": [
    "## Downstream evaluation"
   ]
  },
  {
   "cell_type": "markdown",
   "id": "29299bd3",
   "metadata": {},
   "source": [
    "In the SSL model trained above, we have multiple encoders. All of these specialize in capturing the information at a specific level."
   ]
  },
  {
   "cell_type": "code",
   "execution_count": 43,
   "id": "9238f9bd",
   "metadata": {},
   "outputs": [],
   "source": [
    "# torch.save(model.state_dict(), 'ssl_model.pth')"
   ]
  },
  {
   "cell_type": "code",
   "execution_count": 6,
   "id": "553a45e6",
   "metadata": {},
   "outputs": [
    {
     "data": {
      "text/plain": [
       "<All keys matched successfully>"
      ]
     },
     "execution_count": 6,
     "metadata": {},
     "output_type": "execute_result"
    }
   ],
   "source": [
    "model.load_state_dict(torch.load('ssl_model.pth'))"
   ]
  },
  {
   "cell_type": "code",
   "execution_count": 44,
   "id": "df3462c2",
   "metadata": {},
   "outputs": [
    {
     "data": {
      "text/plain": [
       "Sequential(\n",
       "  (0): Sequential(\n",
       "    (0): Conv2d(3, 64, kernel_size=(3, 3), stride=(1, 1), padding=(1, 1))\n",
       "    (1): ReLU()\n",
       "    (2): Conv2d(64, 128, kernel_size=(3, 3), stride=(1, 1), padding=(1, 1))\n",
       "    (3): ReLU()\n",
       "    (4): Conv2d(128, 256, kernel_size=(3, 3), stride=(1, 1), padding=(1, 1))\n",
       "    (5): ReLU()\n",
       "  )\n",
       "  (1): Flatten(start_dim=1, end_dim=-1)\n",
       "  (2): Linear(in_features=256, out_features=1, bias=True)\n",
       ")"
      ]
     },
     "execution_count": 44,
     "metadata": {},
     "output_type": "execute_result"
    }
   ],
   "source": [
    "# nn.Sequential(model.encoders[0], nn.Flatten(), nn.C))"
   ]
  },
  {
   "cell_type": "code",
   "execution_count": 51,
   "id": "0b62fed4",
   "metadata": {},
   "outputs": [
    {
     "data": {
      "text/plain": [
       "torch.Size([1, 256, 128, 128])"
      ]
     },
     "execution_count": 51,
     "metadata": {},
     "output_type": "execute_result"
    }
   ],
   "source": [
    "# model.encoders[2](torch.randn(1, 3, 128, 128).cuda()).shape"
   ]
  },
  {
   "cell_type": "code",
   "execution_count": 13,
   "id": "2043fe73",
   "metadata": {},
   "outputs": [
    {
     "name": "stdout",
     "output_type": "stream",
     "text": [
      "Sequential(\n",
      "  (0): Conv2d(256, 64, kernel_size=(3, 3), stride=(2, 2), padding=(1, 1))\n",
      "  (1): ReLU()\n",
      "  (2): BatchNorm2d(64, eps=1e-05, momentum=0.1, affine=True, track_running_stats=True)\n",
      "  (3): Conv2d(64, 128, kernel_size=(3, 3), stride=(2, 2), padding=(1, 1))\n",
      "  (4): ReLU()\n",
      "  (5): BatchNorm2d(128, eps=1e-05, momentum=0.1, affine=True, track_running_stats=True)\n",
      "  (6): Conv2d(128, 256, kernel_size=(3, 3), stride=(2, 2), padding=(1, 1))\n",
      "  (7): ReLU()\n",
      "  (8): BatchNorm2d(256, eps=1e-05, momentum=0.1, affine=True, track_running_stats=True)\n",
      "  (9): Flatten(start_dim=1, end_dim=-1)\n",
      "  (10): Dropout(p=0.5, inplace=False)\n",
      "  (11): Linear(in_features=65536, out_features=1024, bias=True)\n",
      "  (12): ReLU()\n",
      "  (13): Dropout(p=0.5, inplace=False)\n",
      "  (14): Linear(in_features=1024, out_features=102, bias=True)\n",
      ")\n"
     ]
    }
   ],
   "source": [
    "input_shape = (256, 128, 128)\n",
    "# Define the classification model\n",
    "classification_model = nn.Sequential(\n",
    "    # Convolutional layers\n",
    "    nn.Conv2d(input_shape[0], 64, kernel_size=3, stride=2, padding=1),\n",
    "    nn.ReLU(),\n",
    "    nn.BatchNorm2d(64),\n",
    "    nn.Conv2d(64, 128, kernel_size=3, stride=2, padding=1),\n",
    "    nn.ReLU(),\n",
    "    nn.BatchNorm2d(128),\n",
    "    nn.Conv2d(128, 256, kernel_size=3, stride=2, padding=1),\n",
    "    nn.ReLU(),\n",
    "    nn.BatchNorm2d(256),\n",
    "\n",
    "#     # Flatten the feature maps\n",
    "    nn.Flatten(),\n",
    "    nn.Dropout(),\n",
    "#     # Fully connected layers\n",
    "    nn.Linear(256 * 16*16, 1024),\n",
    "    nn.ReLU(),\n",
    "    nn.Dropout(),\n",
    "    nn.Linear(1024, 102)  # num_classes is the number of classes for classification\n",
    ")\n",
    "\n",
    "# Print the classification model architecture\n",
    "print(classification_model)"
   ]
  },
  {
   "cell_type": "code",
   "execution_count": 14,
   "id": "92e7d860",
   "metadata": {},
   "outputs": [],
   "source": [
    "# classification_model.cuda()(model.encoders[2](torch.randn(1, 3, 128, 128).cuda())).shape\n",
    "# torch.cuda.empty_cache()"
   ]
  },
  {
   "cell_type": "code",
   "execution_count": 15,
   "id": "9da7e8d6",
   "metadata": {},
   "outputs": [],
   "source": [
    "criterion = nn.CrossEntropyLoss()\n",
    "\n",
    "# Define the optimizer\n",
    "optimizer = optim.Adam(classification_model.parameters(), lr=learning_rate, weight_decay=0.001)"
   ]
  },
  {
   "cell_type": "code",
   "execution_count": 16,
   "id": "c17985ee",
   "metadata": {},
   "outputs": [],
   "source": [
    "def model_eval(model, classification_model, dataloader):\n",
    "    \n",
    "    model.eval()\n",
    "    correct = 0\n",
    "    total = 0\n",
    "    with torch.no_grad():\n",
    "        for data in dataloader:\n",
    "            images, labels = data[0].to(device), data[1].to(device)\n",
    "            #outputs = model(images)\n",
    "            outputs = classification_model.cuda()(model.encoders[2](images))\n",
    "            _, predicted = torch.max(outputs.data, 1)\n",
    "            total += labels.size(0)\n",
    "            correct += (predicted == labels).sum().item()\n",
    "\n",
    "    accuracy = 100 * correct / total\n",
    "    return accuracy"
   ]
  },
  {
   "cell_type": "code",
   "execution_count": null,
   "id": "e156816c",
   "metadata": {},
   "outputs": [
    {
     "name": "stdout",
     "output_type": "stream",
     "text": [
      "Epoch 1 : Loss: 99.91639947891235 Accuracy: 13.431372549019608\n",
      "Epoch 1 : Test Accuracy: 1.6588063099691006\n",
      "Epoch 2 : Loss: 73.51753616333008 Accuracy: 33.333333333333336\n",
      "Epoch 2 : Test Accuracy: 2.5532606927955763\n",
      "Epoch 3 : Loss: 46.0807865858078 Accuracy: 64.50980392156863\n",
      "Epoch 3 : Test Accuracy: 3.512766303463978\n",
      "Epoch 4 : Loss: 21.646090149879456 Accuracy: 83.92156862745098\n",
      "Epoch 4 : Test Accuracy: 3.8542852496340867\n",
      "Epoch 5 : Loss: 10.291690200567245 Accuracy: 92.84313725490196\n",
      "Epoch 5 : Test Accuracy: 3.7567084078711988\n",
      "Epoch 6 : Loss: 5.119639813899994 Accuracy: 93.82352941176471\n",
      "Epoch 6 : Test Accuracy: 3.870548056594568\n",
      "Epoch 7 : Loss: 3.0966795682907104 Accuracy: 96.17647058823529\n"
     ]
    }
   ],
   "source": [
    "num_epochs = 10\n",
    "device = torch.device(\"cuda\" if torch.cuda.is_available() else \"cpu\")\n",
    "classification_model = classification_model.to(device)\n",
    "\n",
    "log_train_every = 1\n",
    "log_test_every = 1\n",
    "\n",
    "for epoch in range(num_epochs):\n",
    "    running_loss = 0.0\n",
    "    \n",
    "    for i, data in enumerate(train_loader, 0):\n",
    "        inputs, labels = data[0].to(device), data[1].to(device)\n",
    "        \n",
    "        optimizer.zero_grad()\n",
    "        \n",
    "        #outputs = model(inputs)\n",
    "        outputs = classification_model.cuda()(model.encoders[2](inputs))\n",
    "        \n",
    "        loss = criterion(outputs, labels)\n",
    "        \n",
    "        \n",
    "        loss.backward()\n",
    "        optimizer.step()\n",
    "        \n",
    "        running_loss += loss.item()\n",
    "        \n",
    "    # compute training & testing accuracy every couple of iterations        \n",
    "    if (epoch+1) % log_train_every == 0:\n",
    "        train_accuracy = model_eval(model, classification_model, train_loader)\n",
    "\n",
    "        # Log the loss\n",
    "        #writer.add_scalar('Loss/train', loss.cpu().item(), epoch * len(train_loader) + i)\n",
    "\n",
    "        # Log the training accuracy\n",
    "        #writer.add_scalar('Accuracy/train', train_accuracy, epoch * len(train_loader) + i)\n",
    "        print(f\"Epoch {epoch+1} : Loss: {running_loss} Accuracy: {train_accuracy}\")\n",
    "        \n",
    "    if (epoch+1) % log_test_every == 0:\n",
    "        test_accuracy = model_eval(model, classification_model, test_dataloader)\n",
    "\n",
    "        # Log the test accuracy\n",
    "        #writer.add_scalar('Accuracy/test', test_accuracy, epoch * len(train_loader) + i)\n",
    "        print(f\"Epoch {epoch+1} : Test Accuracy: {test_accuracy}\")\n",
    "        \n",
    "# writer.close()\n",
    "print(\"Training finished.\")"
   ]
  },
  {
   "cell_type": "code",
   "execution_count": null,
   "id": "a9c5513e",
   "metadata": {},
   "outputs": [],
   "source": []
  }
 ],
 "metadata": {
  "kernelspec": {
   "display_name": "Pytorch 2.0",
   "language": "python",
   "name": "torch2"
  },
  "language_info": {
   "codemirror_mode": {
    "name": "ipython",
    "version": 3
   },
   "file_extension": ".py",
   "mimetype": "text/x-python",
   "name": "python",
   "nbconvert_exporter": "python",
   "pygments_lexer": "ipython3",
   "version": "3.9.5"
  }
 },
 "nbformat": 4,
 "nbformat_minor": 5
}
